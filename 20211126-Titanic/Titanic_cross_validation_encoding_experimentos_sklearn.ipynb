{
  "nbformat": 4,
  "nbformat_minor": 0,
  "metadata": {
    "colab": {
      "name": "Titanic_cross_validation_encoding_experimentos sklearn.ipynb",
      "provenance": [],
      "collapsed_sections": []
    },
    "kernelspec": {
      "display_name": "Python 3",
      "language": "python",
      "name": "python3"
    },
    "language_info": {
      "codemirror_mode": {
        "name": "ipython",
        "version": 3
      },
      "file_extension": ".py",
      "mimetype": "text/x-python",
      "name": "python",
      "nbconvert_exporter": "python",
      "pygments_lexer": "ipython3",
      "version": "3.7.7"
    },
    "toc": {
      "base_numbering": 1,
      "nav_menu": {},
      "number_sections": true,
      "sideBar": true,
      "skip_h1_title": false,
      "title_cell": "Table of Contents",
      "title_sidebar": "Contents",
      "toc_cell": false,
      "toc_position": {},
      "toc_section_display": true,
      "toc_window_display": false
    }
  },
  "cells": [
    {
      "cell_type": "markdown",
      "metadata": {
        "id": "GBJGN8UStBUW"
      },
      "source": [
        "# Sklearn Pipeline\n",
        "<img src=\"pipeline-diagram.png\">\n",
        "O pipeline tem como objetivo automatizar uma sequência de comandos.  \n",
        "Exemplo: usando pipeline para fazer a seleção dos parâmetros de pré processamento e dos hyperparâmetros do modelo?\n",
        "\n",
        "Vantagens do CV pipeline: one-hot encoder transform dentro do pipeline com a nova versão do sklearn (0.20.2 ou + recente).  \n",
        "  \n",
        "\n",
        "Usando dados do Titanic, descritos em: https://www.openml.org/d/40945"
      ]
    },
    {
      "cell_type": "markdown",
      "metadata": {
        "id": "OpR6LV2--_ZL"
      },
      "source": [
        "## Análise exploratória dos dados"
      ]
    },
    {
      "cell_type": "code",
      "metadata": {
        "id": "5NirYVDyswYv"
      },
      "source": [
        "import pandas as pd\n",
        "from sklearn.metrics import plot_confusion_matrix\n",
        "from sklearn.model_selection import train_test_split\n",
        "import matplotlib.pyplot as plt "
      ],
      "execution_count": null,
      "outputs": []
    },
    {
      "cell_type": "code",
      "metadata": {
        "id": "keTB5K-ItvbV"
      },
      "source": [
        "#df = pd.read_csv('http://bit.ly/kaggletrain')\n",
        "df = pd.read_csv('https://www.openml.org/data/get_csv/16826755/phpMYEkMl', na_values='?')"
      ],
      "execution_count": null,
      "outputs": []
    },
    {
      "cell_type": "code",
      "metadata": {
        "colab": {
          "base_uri": "https://localhost:8080/"
        },
        "id": "gjAMLZkgt_h8",
        "outputId": "c8204584-3f83-4b11-fa6f-6e6a4242de86"
      },
      "source": [
        "df.shape"
      ],
      "execution_count": null,
      "outputs": [
        {
          "output_type": "execute_result",
          "data": {
            "text/plain": [
              "(1309, 14)"
            ]
          },
          "metadata": {},
          "execution_count": 3
        }
      ]
    },
    {
      "cell_type": "code",
      "metadata": {
        "colab": {
          "base_uri": "https://localhost:8080/"
        },
        "id": "Tfc4ibkpuB1S",
        "outputId": "84d921e9-deba-4d56-d3a6-5697b1ae1358"
      },
      "source": [
        "df.columns"
      ],
      "execution_count": null,
      "outputs": [
        {
          "output_type": "execute_result",
          "data": {
            "text/plain": [
              "Index(['pclass', 'survived', 'name', 'sex', 'age', 'sibsp', 'parch', 'ticket',\n",
              "       'fare', 'cabin', 'embarked', 'boat', 'body', 'home.dest'],\n",
              "      dtype='object')"
            ]
          },
          "metadata": {},
          "execution_count": 4
        }
      ]
    },
    {
      "cell_type": "code",
      "metadata": {
        "id": "wMMbHcYO-_ZP",
        "colab": {
          "base_uri": "https://localhost:8080/"
        },
        "outputId": "551c34b3-e557-45a2-bb10-a32cb9237ba8"
      },
      "source": [
        "df.cabin"
      ],
      "execution_count": null,
      "outputs": [
        {
          "output_type": "execute_result",
          "data": {
            "text/plain": [
              "0            B5\n",
              "1       C22 C26\n",
              "2       C22 C26\n",
              "3       C22 C26\n",
              "4       C22 C26\n",
              "         ...   \n",
              "1304        NaN\n",
              "1305        NaN\n",
              "1306        NaN\n",
              "1307        NaN\n",
              "1308        NaN\n",
              "Name: cabin, Length: 1309, dtype: object"
            ]
          },
          "metadata": {},
          "execution_count": 5
        }
      ]
    },
    {
      "cell_type": "code",
      "metadata": {
        "colab": {
          "base_uri": "https://localhost:8080/"
        },
        "id": "WXNex3L9uEdy",
        "outputId": "fbb295be-0463-47dd-9696-48616e90d478"
      },
      "source": [
        "df.isna().sum()"
      ],
      "execution_count": null,
      "outputs": [
        {
          "output_type": "execute_result",
          "data": {
            "text/plain": [
              "pclass          0\n",
              "survived        0\n",
              "name            0\n",
              "sex             0\n",
              "age           263\n",
              "sibsp           0\n",
              "parch           0\n",
              "ticket          0\n",
              "fare            1\n",
              "cabin        1014\n",
              "embarked        2\n",
              "boat          823\n",
              "body         1188\n",
              "home.dest     564\n",
              "dtype: int64"
            ]
          },
          "metadata": {},
          "execution_count": 6
        }
      ]
    },
    {
      "cell_type": "code",
      "metadata": {
        "id": "XM-toK0iuLPQ"
      },
      "source": [
        "df = df.loc[df.embarked.notna(), ['pclass', 'survived', 'sex', 'embarked']]"
      ],
      "execution_count": null,
      "outputs": []
    },
    {
      "cell_type": "code",
      "metadata": {
        "id": "f1L87U_K-_ZQ",
        "colab": {
          "base_uri": "https://localhost:8080/"
        },
        "outputId": "bba5876d-44ba-46da-d448-f34e51f8cc9f"
      },
      "source": [
        "df.isna().sum()"
      ],
      "execution_count": null,
      "outputs": [
        {
          "output_type": "execute_result",
          "data": {
            "text/plain": [
              "pclass      0\n",
              "survived    0\n",
              "sex         0\n",
              "embarked    0\n",
              "dtype: int64"
            ]
          },
          "metadata": {},
          "execution_count": 8
        }
      ]
    },
    {
      "cell_type": "code",
      "metadata": {
        "colab": {
          "base_uri": "https://localhost:8080/"
        },
        "id": "FWJtziguux5A",
        "outputId": "4e6449b1-6f89-4c83-cf6d-e273c2bfefd2"
      },
      "source": [
        "df.shape"
      ],
      "execution_count": null,
      "outputs": [
        {
          "output_type": "execute_result",
          "data": {
            "text/plain": [
              "(1307, 4)"
            ]
          },
          "metadata": {},
          "execution_count": 9
        }
      ]
    },
    {
      "cell_type": "code",
      "metadata": {
        "colab": {
          "base_uri": "https://localhost:8080/",
          "height": 206
        },
        "id": "nBaX5cNUuzXB",
        "scrolled": true,
        "outputId": "22a75204-b14b-46ca-90e5-8ef427e435b4"
      },
      "source": [
        "df.head()"
      ],
      "execution_count": null,
      "outputs": [
        {
          "output_type": "execute_result",
          "data": {
            "text/html": [
              "<div>\n",
              "<style scoped>\n",
              "    .dataframe tbody tr th:only-of-type {\n",
              "        vertical-align: middle;\n",
              "    }\n",
              "\n",
              "    .dataframe tbody tr th {\n",
              "        vertical-align: top;\n",
              "    }\n",
              "\n",
              "    .dataframe thead th {\n",
              "        text-align: right;\n",
              "    }\n",
              "</style>\n",
              "<table border=\"1\" class=\"dataframe\">\n",
              "  <thead>\n",
              "    <tr style=\"text-align: right;\">\n",
              "      <th></th>\n",
              "      <th>pclass</th>\n",
              "      <th>survived</th>\n",
              "      <th>sex</th>\n",
              "      <th>embarked</th>\n",
              "    </tr>\n",
              "  </thead>\n",
              "  <tbody>\n",
              "    <tr>\n",
              "      <th>0</th>\n",
              "      <td>1</td>\n",
              "      <td>1</td>\n",
              "      <td>female</td>\n",
              "      <td>S</td>\n",
              "    </tr>\n",
              "    <tr>\n",
              "      <th>1</th>\n",
              "      <td>1</td>\n",
              "      <td>1</td>\n",
              "      <td>male</td>\n",
              "      <td>S</td>\n",
              "    </tr>\n",
              "    <tr>\n",
              "      <th>2</th>\n",
              "      <td>1</td>\n",
              "      <td>0</td>\n",
              "      <td>female</td>\n",
              "      <td>S</td>\n",
              "    </tr>\n",
              "    <tr>\n",
              "      <th>3</th>\n",
              "      <td>1</td>\n",
              "      <td>0</td>\n",
              "      <td>male</td>\n",
              "      <td>S</td>\n",
              "    </tr>\n",
              "    <tr>\n",
              "      <th>4</th>\n",
              "      <td>1</td>\n",
              "      <td>0</td>\n",
              "      <td>female</td>\n",
              "      <td>S</td>\n",
              "    </tr>\n",
              "  </tbody>\n",
              "</table>\n",
              "</div>"
            ],
            "text/plain": [
              "   pclass  survived     sex embarked\n",
              "0       1         1  female        S\n",
              "1       1         1    male        S\n",
              "2       1         0  female        S\n",
              "3       1         0    male        S\n",
              "4       1         0  female        S"
            ]
          },
          "metadata": {},
          "execution_count": 10
        }
      ]
    },
    {
      "cell_type": "code",
      "metadata": {
        "id": "H8Z-1jK2-_ZR",
        "colab": {
          "base_uri": "https://localhost:8080/",
          "height": 363
        },
        "outputId": "015df1f9-aa59-40a9-cea1-1b867dde1b9c"
      },
      "source": [
        "df.sample(10)"
      ],
      "execution_count": null,
      "outputs": [
        {
          "output_type": "execute_result",
          "data": {
            "text/html": [
              "<div>\n",
              "<style scoped>\n",
              "    .dataframe tbody tr th:only-of-type {\n",
              "        vertical-align: middle;\n",
              "    }\n",
              "\n",
              "    .dataframe tbody tr th {\n",
              "        vertical-align: top;\n",
              "    }\n",
              "\n",
              "    .dataframe thead th {\n",
              "        text-align: right;\n",
              "    }\n",
              "</style>\n",
              "<table border=\"1\" class=\"dataframe\">\n",
              "  <thead>\n",
              "    <tr style=\"text-align: right;\">\n",
              "      <th></th>\n",
              "      <th>pclass</th>\n",
              "      <th>survived</th>\n",
              "      <th>sex</th>\n",
              "      <th>embarked</th>\n",
              "    </tr>\n",
              "  </thead>\n",
              "  <tbody>\n",
              "    <tr>\n",
              "      <th>925</th>\n",
              "      <td>3</td>\n",
              "      <td>0</td>\n",
              "      <td>male</td>\n",
              "      <td>S</td>\n",
              "    </tr>\n",
              "    <tr>\n",
              "      <th>210</th>\n",
              "      <td>1</td>\n",
              "      <td>0</td>\n",
              "      <td>male</td>\n",
              "      <td>S</td>\n",
              "    </tr>\n",
              "    <tr>\n",
              "      <th>1106</th>\n",
              "      <td>3</td>\n",
              "      <td>0</td>\n",
              "      <td>female</td>\n",
              "      <td>S</td>\n",
              "    </tr>\n",
              "    <tr>\n",
              "      <th>62</th>\n",
              "      <td>1</td>\n",
              "      <td>0</td>\n",
              "      <td>male</td>\n",
              "      <td>S</td>\n",
              "    </tr>\n",
              "    <tr>\n",
              "      <th>124</th>\n",
              "      <td>1</td>\n",
              "      <td>1</td>\n",
              "      <td>female</td>\n",
              "      <td>C</td>\n",
              "    </tr>\n",
              "    <tr>\n",
              "      <th>796</th>\n",
              "      <td>3</td>\n",
              "      <td>0</td>\n",
              "      <td>male</td>\n",
              "      <td>S</td>\n",
              "    </tr>\n",
              "    <tr>\n",
              "      <th>169</th>\n",
              "      <td>1</td>\n",
              "      <td>0</td>\n",
              "      <td>female</td>\n",
              "      <td>C</td>\n",
              "    </tr>\n",
              "    <tr>\n",
              "      <th>615</th>\n",
              "      <td>3</td>\n",
              "      <td>0</td>\n",
              "      <td>male</td>\n",
              "      <td>S</td>\n",
              "    </tr>\n",
              "    <tr>\n",
              "      <th>598</th>\n",
              "      <td>2</td>\n",
              "      <td>1</td>\n",
              "      <td>female</td>\n",
              "      <td>S</td>\n",
              "    </tr>\n",
              "    <tr>\n",
              "      <th>1264</th>\n",
              "      <td>3</td>\n",
              "      <td>0</td>\n",
              "      <td>male</td>\n",
              "      <td>S</td>\n",
              "    </tr>\n",
              "  </tbody>\n",
              "</table>\n",
              "</div>"
            ],
            "text/plain": [
              "      pclass  survived     sex embarked\n",
              "925        3         0    male        S\n",
              "210        1         0    male        S\n",
              "1106       3         0  female        S\n",
              "62         1         0    male        S\n",
              "124        1         1  female        C\n",
              "796        3         0    male        S\n",
              "169        1         0  female        C\n",
              "615        3         0    male        S\n",
              "598        2         1  female        S\n",
              "1264       3         0    male        S"
            ]
          },
          "metadata": {},
          "execution_count": 11
        }
      ]
    },
    {
      "cell_type": "code",
      "metadata": {
        "id": "_isl-mPM-_ZR",
        "colab": {
          "base_uri": "https://localhost:8080/"
        },
        "outputId": "20ab7b85-ad9c-41a7-8895-2fb42f343331"
      },
      "source": [
        "df.survived.value_counts()"
      ],
      "execution_count": null,
      "outputs": [
        {
          "output_type": "execute_result",
          "data": {
            "text/plain": [
              "0    809\n",
              "1    498\n",
              "Name: survived, dtype: int64"
            ]
          },
          "metadata": {},
          "execution_count": 12
        }
      ]
    },
    {
      "cell_type": "code",
      "metadata": {
        "id": "2sujYyK--_ZR",
        "colab": {
          "base_uri": "https://localhost:8080/"
        },
        "outputId": "f9f01bfe-102c-4d51-e20e-d1435f7038f6"
      },
      "source": [
        "df.survived.value_counts(normalize=True)"
      ],
      "execution_count": null,
      "outputs": [
        {
          "output_type": "execute_result",
          "data": {
            "text/plain": [
              "0    0.618975\n",
              "1    0.381025\n",
              "Name: survived, dtype: float64"
            ]
          },
          "metadata": {},
          "execution_count": 13
        }
      ]
    },
    {
      "cell_type": "markdown",
      "metadata": {
        "id": "DhxK79wq-_ZS"
      },
      "source": [
        "dica:  \n",
        "Qual a accurácia mínima aceitável?  \n",
        "Em casos de classificação binária como este, seria 61,89% (predição da classe predominante: '0' = Não sobreviveu!)"
      ]
    },
    {
      "cell_type": "markdown",
      "metadata": {
        "id": "1qOFddSg-_ZS"
      },
      "source": [
        "## Cross-validation - validação cruzada\n",
        "<img src='cross-validation.png'>  \n",
        "Consiste em dividir os dados em partes, exemplo k-fold = 5, dividir em 5 partes e treinar o modelo 5 vexes.  \n",
        "Cada treinamento uma parte dos dados é separada para servir de teste (avaliação do modelo)."
      ]
    },
    {
      "cell_type": "markdown",
      "metadata": {
        "id": "Ks4ai8u5-_ZS"
      },
      "source": [
        "### sem cross-validation"
      ]
    },
    {
      "cell_type": "code",
      "metadata": {
        "id": "0T3X--Hzu44x"
      },
      "source": [
        "X = df.loc[:, ['pclass']]\n",
        "y = df.survived"
      ],
      "execution_count": null,
      "outputs": []
    },
    {
      "cell_type": "code",
      "metadata": {
        "id": "57UW4m7Q-_ZT",
        "colab": {
          "base_uri": "https://localhost:8080/",
          "height": 423
        },
        "outputId": "7835e855-f094-47a2-bbae-45e3f62a6c56"
      },
      "source": [
        "X"
      ],
      "execution_count": null,
      "outputs": [
        {
          "output_type": "execute_result",
          "data": {
            "text/html": [
              "<div>\n",
              "<style scoped>\n",
              "    .dataframe tbody tr th:only-of-type {\n",
              "        vertical-align: middle;\n",
              "    }\n",
              "\n",
              "    .dataframe tbody tr th {\n",
              "        vertical-align: top;\n",
              "    }\n",
              "\n",
              "    .dataframe thead th {\n",
              "        text-align: right;\n",
              "    }\n",
              "</style>\n",
              "<table border=\"1\" class=\"dataframe\">\n",
              "  <thead>\n",
              "    <tr style=\"text-align: right;\">\n",
              "      <th></th>\n",
              "      <th>pclass</th>\n",
              "    </tr>\n",
              "  </thead>\n",
              "  <tbody>\n",
              "    <tr>\n",
              "      <th>0</th>\n",
              "      <td>1</td>\n",
              "    </tr>\n",
              "    <tr>\n",
              "      <th>1</th>\n",
              "      <td>1</td>\n",
              "    </tr>\n",
              "    <tr>\n",
              "      <th>2</th>\n",
              "      <td>1</td>\n",
              "    </tr>\n",
              "    <tr>\n",
              "      <th>3</th>\n",
              "      <td>1</td>\n",
              "    </tr>\n",
              "    <tr>\n",
              "      <th>4</th>\n",
              "      <td>1</td>\n",
              "    </tr>\n",
              "    <tr>\n",
              "      <th>...</th>\n",
              "      <td>...</td>\n",
              "    </tr>\n",
              "    <tr>\n",
              "      <th>1304</th>\n",
              "      <td>3</td>\n",
              "    </tr>\n",
              "    <tr>\n",
              "      <th>1305</th>\n",
              "      <td>3</td>\n",
              "    </tr>\n",
              "    <tr>\n",
              "      <th>1306</th>\n",
              "      <td>3</td>\n",
              "    </tr>\n",
              "    <tr>\n",
              "      <th>1307</th>\n",
              "      <td>3</td>\n",
              "    </tr>\n",
              "    <tr>\n",
              "      <th>1308</th>\n",
              "      <td>3</td>\n",
              "    </tr>\n",
              "  </tbody>\n",
              "</table>\n",
              "<p>1307 rows × 1 columns</p>\n",
              "</div>"
            ],
            "text/plain": [
              "      pclass\n",
              "0          1\n",
              "1          1\n",
              "2          1\n",
              "3          1\n",
              "4          1\n",
              "...      ...\n",
              "1304       3\n",
              "1305       3\n",
              "1306       3\n",
              "1307       3\n",
              "1308       3\n",
              "\n",
              "[1307 rows x 1 columns]"
            ]
          },
          "metadata": {},
          "execution_count": 15
        }
      ]
    },
    {
      "cell_type": "code",
      "metadata": {
        "id": "UpvKoJOn-_ZT"
      },
      "source": [
        "from sklearn.linear_model import LogisticRegression"
      ],
      "execution_count": null,
      "outputs": []
    },
    {
      "cell_type": "code",
      "metadata": {
        "id": "4o4FescNv6Hm",
        "scrolled": true
      },
      "source": [
        "reg_log = LogisticRegression(solver='lbfgs')"
      ],
      "execution_count": null,
      "outputs": []
    },
    {
      "cell_type": "code",
      "metadata": {
        "id": "-3MERWEB-_ZT"
      },
      "source": [
        "X_train, X_test, y_train, y_test = train_test_split(X, y, test_size=0.2, \n",
        "                                                    random_state=40)"
      ],
      "execution_count": null,
      "outputs": []
    },
    {
      "cell_type": "code",
      "metadata": {
        "id": "B_U5bFl5-_ZT",
        "colab": {
          "base_uri": "https://localhost:8080/"
        },
        "outputId": "98cfda4f-904a-4902-b8e1-f309b3e220ef"
      },
      "source": [
        "reg_log.fit(X_train,y_train)"
      ],
      "execution_count": null,
      "outputs": [
        {
          "output_type": "execute_result",
          "data": {
            "text/plain": [
              "LogisticRegression()"
            ]
          },
          "metadata": {},
          "execution_count": 19
        }
      ]
    },
    {
      "cell_type": "code",
      "metadata": {
        "id": "vYrYQS6K-_ZU",
        "colab": {
          "base_uri": "https://localhost:8080/"
        },
        "outputId": "a321ae0a-5543-491a-e30d-7368e2587744"
      },
      "source": [
        "reg_log.score(X_test,y_test)"
      ],
      "execution_count": null,
      "outputs": [
        {
          "output_type": "execute_result",
          "data": {
            "text/plain": [
              "0.7633587786259542"
            ]
          },
          "metadata": {},
          "execution_count": 20
        }
      ]
    },
    {
      "cell_type": "markdown",
      "metadata": {
        "id": "9ykTLz5E-_ZU"
      },
      "source": [
        "### com cross-validation"
      ]
    },
    {
      "cell_type": "code",
      "metadata": {
        "id": "j6s_UEz_vuZf"
      },
      "source": [
        "from sklearn.linear_model import LogisticRegression\n",
        "from sklearn.model_selection import cross_val_score"
      ],
      "execution_count": null,
      "outputs": []
    },
    {
      "cell_type": "code",
      "metadata": {
        "id": "kNFOZdjk-_ZU"
      },
      "source": [
        "#df = df.sample(len(df))"
      ],
      "execution_count": null,
      "outputs": []
    },
    {
      "cell_type": "code",
      "metadata": {
        "id": "1hK3Xs5l-_ZV"
      },
      "source": [
        "X = df.loc[:, ['pclass']]\n",
        "y = df.survived"
      ],
      "execution_count": null,
      "outputs": []
    },
    {
      "cell_type": "code",
      "metadata": {
        "id": "EUVsHi55-_ZV"
      },
      "source": [
        "# Havendo muitos dados, separe um conjunto de teste que você só poderá utilizar uma única vez ao final do se\n",
        "X_train, X_test, y_train, y_test = train_test_split(X, y, test_size=0.2,\n",
        "                                                    random_state=45)"
      ],
      "execution_count": null,
      "outputs": []
    },
    {
      "cell_type": "code",
      "metadata": {
        "id": "ITg1shB3-_ZV"
      },
      "source": [
        "reg_log = LogisticRegression(solver='lbfgs')"
      ],
      "execution_count": null,
      "outputs": []
    },
    {
      "cell_type": "code",
      "metadata": {
        "colab": {
          "base_uri": "https://localhost:8080/"
        },
        "id": "DUrFJWrJwr4a",
        "outputId": "d3d9db56-3100-4fbe-a226-b73755092943"
      },
      "source": [
        "cv_result = cross_val_score(reg_log, X_train, y_train, cv=3, scoring='accuracy')\n",
        "\n",
        "cv_result.mean()"
      ],
      "execution_count": null,
      "outputs": [
        {
          "output_type": "execute_result",
          "data": {
            "text/plain": [
              "0.6736982511609524"
            ]
          },
          "metadata": {},
          "execution_count": 26
        }
      ]
    },
    {
      "cell_type": "code",
      "metadata": {
        "scrolled": true,
        "id": "JRCCqKUR-_ZV",
        "colab": {
          "base_uri": "https://localhost:8080/"
        },
        "outputId": "8f8c4f16-259d-4c08-e62a-558946e41e40"
      },
      "source": [
        "cv_result"
      ],
      "execution_count": null,
      "outputs": [
        {
          "output_type": "execute_result",
          "data": {
            "text/plain": [
              "array([0.65902579, 0.6954023 , 0.66666667])"
            ]
          },
          "metadata": {},
          "execution_count": 27
        }
      ]
    },
    {
      "cell_type": "code",
      "metadata": {
        "id": "U8owiPNO-_ZW",
        "colab": {
          "base_uri": "https://localhost:8080/"
        },
        "outputId": "ac09563a-6e49-4010-dcd4-fe686cf25757"
      },
      "source": [
        "reg_log.fit(X_train, y_train)"
      ],
      "execution_count": null,
      "outputs": [
        {
          "output_type": "execute_result",
          "data": {
            "text/plain": [
              "LogisticRegression()"
            ]
          },
          "metadata": {},
          "execution_count": 28
        }
      ]
    },
    {
      "cell_type": "code",
      "metadata": {
        "id": "DOPrmjK4-_ZW",
        "colab": {
          "base_uri": "https://localhost:8080/"
        },
        "outputId": "a6b630de-2f5a-4a94-a0a2-ba9d540f5db7"
      },
      "source": [
        "reg_log.score(X_test, y_test)"
      ],
      "execution_count": null,
      "outputs": [
        {
          "output_type": "execute_result",
          "data": {
            "text/plain": [
              "0.6870229007633588"
            ]
          },
          "metadata": {},
          "execution_count": 29
        }
      ]
    },
    {
      "cell_type": "code",
      "metadata": {
        "id": "uhaA9fif-_ZW",
        "colab": {
          "base_uri": "https://localhost:8080/"
        },
        "outputId": "25c2f17e-8776-4e34-93b6-d3a8fc17cd8c"
      },
      "source": [
        "cv_result.std()"
      ],
      "execution_count": null,
      "outputs": [
        {
          "output_type": "execute_result",
          "data": {
            "text/plain": [
              "0.015660885913980925"
            ]
          },
          "metadata": {},
          "execution_count": 30
        }
      ]
    },
    {
      "cell_type": "code",
      "metadata": {
        "colab": {
          "base_uri": "https://localhost:8080/"
        },
        "id": "_srvYHvI-_ZW",
        "outputId": "dace8813-f969-4d1f-ac10-32d81a86e591"
      },
      "source": [
        "cv_result = cross_val_score(reg_log, X, y, cv=10, scoring='accuracy', )\n",
        "\n",
        "cv_result.mean()"
      ],
      "execution_count": null,
      "outputs": [
        {
          "output_type": "execute_result",
          "data": {
            "text/plain": [
              "0.6762301820317088"
            ]
          },
          "metadata": {},
          "execution_count": 31
        }
      ]
    },
    {
      "cell_type": "code",
      "metadata": {
        "scrolled": true,
        "id": "6iYa9HCc-_ZX",
        "colab": {
          "base_uri": "https://localhost:8080/"
        },
        "outputId": "6f08a0c9-b76c-4c74-d0b8-4fa21cd60219"
      },
      "source": [
        "cv_result"
      ],
      "execution_count": null,
      "outputs": [
        {
          "output_type": "execute_result",
          "data": {
            "text/plain": [
              "array([0.38167939, 0.67938931, 1.        , 0.98473282, 0.61832061,\n",
              "       0.61832061, 0.61832061, 0.61538462, 0.62307692, 0.62307692])"
            ]
          },
          "metadata": {},
          "execution_count": 32
        }
      ]
    },
    {
      "cell_type": "code",
      "metadata": {
        "id": "Y8ZEDdnA-_ZX",
        "colab": {
          "base_uri": "https://localhost:8080/"
        },
        "outputId": "2652411b-941f-438b-8bcb-a481dc4bb879"
      },
      "source": [
        "cv_result.std()"
      ],
      "execution_count": null,
      "outputs": [
        {
          "output_type": "execute_result",
          "data": {
            "text/plain": [
              "0.17498119933511946"
            ]
          },
          "metadata": {},
          "execution_count": 33
        }
      ]
    },
    {
      "cell_type": "code",
      "metadata": {
        "id": "ewSRzCil-_ZX"
      },
      "source": [
        "from sklearn.model_selection import KFold"
      ],
      "execution_count": null,
      "outputs": []
    },
    {
      "cell_type": "code",
      "metadata": {
        "id": "KOiKqaIhVWyn"
      },
      "source": [
        "# Forma de visualizar quais dados entram em quais dobras do CV em treino ou teste\n",
        "cv2 = KFold(2, shuffle=True, random_state=42)"
      ],
      "execution_count": null,
      "outputs": []
    },
    {
      "cell_type": "code",
      "metadata": {
        "id": "ICFHrjSSVW9T",
        "colab": {
          "base_uri": "https://localhost:8080/",
          "height": 170
        },
        "outputId": "c1a4771d-c392-40dc-f87e-d09884a5f99a"
      },
      "source": [
        "[k for k in cv10.split(X,y)]"
      ],
      "execution_count": null,
      "outputs": [
        {
          "output_type": "error",
          "ename": "NameError",
          "evalue": "ignored",
          "traceback": [
            "\u001b[0;31m---------------------------------------------------------------------------\u001b[0m",
            "\u001b[0;31mNameError\u001b[0m                                 Traceback (most recent call last)",
            "\u001b[0;32m<ipython-input-36-4a2ce05cd530>\u001b[0m in \u001b[0;36m<module>\u001b[0;34m()\u001b[0m\n\u001b[0;32m----> 1\u001b[0;31m \u001b[0;34m[\u001b[0m\u001b[0mk\u001b[0m \u001b[0;32mfor\u001b[0m \u001b[0mk\u001b[0m \u001b[0;32min\u001b[0m \u001b[0mcv10\u001b[0m\u001b[0;34m.\u001b[0m\u001b[0msplit\u001b[0m\u001b[0;34m(\u001b[0m\u001b[0mX\u001b[0m\u001b[0;34m,\u001b[0m\u001b[0my\u001b[0m\u001b[0;34m)\u001b[0m\u001b[0;34m]\u001b[0m\u001b[0;34m\u001b[0m\u001b[0;34m\u001b[0m\u001b[0m\n\u001b[0m",
            "\u001b[0;31mNameError\u001b[0m: name 'cv10' is not defined"
          ]
        }
      ]
    },
    {
      "cell_type": "code",
      "metadata": {
        "id": "X0_OnI8UVrcl"
      },
      "source": [
        "# Façamos um shuffle manual\n",
        "df_shuffle = df.sample(frac=1).reset_index()\n",
        "df_shuffle"
      ],
      "execution_count": null,
      "outputs": []
    },
    {
      "cell_type": "code",
      "metadata": {
        "id": "CrO62VavVrff"
      },
      "source": [
        "X = df_shuffle.loc[:, ['pclass']]\n",
        "y = df_shuffle.survived"
      ],
      "execution_count": null,
      "outputs": []
    },
    {
      "cell_type": "code",
      "metadata": {
        "id": "yYW5jGLbVrjH"
      },
      "source": [
        "X_train, X_test, y_train, y_test = train_test_split(X, y, test_size=0.2,\n",
        "                                                    random_state=45)"
      ],
      "execution_count": null,
      "outputs": []
    },
    {
      "cell_type": "code",
      "metadata": {
        "id": "JzUKA8m0X9AP"
      },
      "source": [
        "reg_log = LogisticRegression(solver='lbfgs')"
      ],
      "execution_count": null,
      "outputs": []
    },
    {
      "cell_type": "code",
      "metadata": {
        "id": "OUzEDK14X9AQ"
      },
      "source": [
        "cv_result = cross_val_score(reg_log, X_train, y_train, cv=10, scoring='accuracy')\n",
        "\n",
        "cv_result"
      ],
      "execution_count": null,
      "outputs": []
    },
    {
      "cell_type": "code",
      "metadata": {
        "id": "IdOP8P5QX8a9"
      },
      "source": [
        "print(f'média = {cv_result.mean()}')\n",
        "print(f'dp = {cv_result.std()}')"
      ],
      "execution_count": null,
      "outputs": []
    },
    {
      "cell_type": "code",
      "metadata": {
        "id": "SEPXYrhBYrQW"
      },
      "source": [
        "cv_result = cross_val_score(reg_log, X_train, y_train, cv=5, scoring='accuracy')\n",
        "\n",
        "cv_result"
      ],
      "execution_count": null,
      "outputs": []
    },
    {
      "cell_type": "code",
      "metadata": {
        "id": "euxIgTl2YrQX"
      },
      "source": [
        "print(f'média = {cv_result.mean()}')\n",
        "print(f'dp = {cv_result.std()}')"
      ],
      "execution_count": null,
      "outputs": []
    },
    {
      "cell_type": "code",
      "metadata": {
        "id": "4kv153OAY3Ud"
      },
      "source": [
        "cv_result = cross_val_score(reg_log, X_train, y_train, cv=2, scoring='accuracy')\n",
        "\n",
        "cv_result"
      ],
      "execution_count": null,
      "outputs": []
    },
    {
      "cell_type": "code",
      "metadata": {
        "id": "47g6vYhSY3Uf"
      },
      "source": [
        "print(f'média = {cv_result.mean()}')\n",
        "print(f'dp = {cv_result.std()}')"
      ],
      "execution_count": null,
      "outputs": []
    },
    {
      "cell_type": "code",
      "metadata": {
        "id": "s6ZHvnQrX8lP"
      },
      "source": [
        ""
      ],
      "execution_count": null,
      "outputs": []
    },
    {
      "cell_type": "markdown",
      "metadata": {
        "id": "8SH7ygumxSL4"
      },
      "source": [
        "## Encoding variáveis (features) categoricas :\n",
        "Se as variáveis não possuem uma ordem específica, geralmente a melhor opção é one hot-encoding (dummy encoding)"
      ]
    },
    {
      "cell_type": "code",
      "metadata": {
        "id": "sVcIKTdjw_4P"
      },
      "source": [
        "from sklearn.preprocessing import  OneHotEncoder\n",
        "hot_enc = OneHotEncoder(sparse=False)"
      ],
      "execution_count": null,
      "outputs": []
    },
    {
      "cell_type": "code",
      "metadata": {
        "id": "g4EhbfK-y4WC",
        "scrolled": true
      },
      "source": [
        "df.head()"
      ],
      "execution_count": null,
      "outputs": []
    },
    {
      "cell_type": "code",
      "metadata": {
        "id": "R_OTSQRp-_ZY"
      },
      "source": [
        "df.tail()"
      ],
      "execution_count": null,
      "outputs": []
    },
    {
      "cell_type": "markdown",
      "metadata": {
        "id": "t92CaVei-_ZY"
      },
      "source": [
        "### Codificando só a variável 'embarked' para ver como fica"
      ]
    },
    {
      "cell_type": "code",
      "metadata": {
        "id": "vGlDxIdj-_ZY"
      },
      "source": [
        "['embarked_C', 'embarked_Q', 'embarked_S']"
      ],
      "execution_count": null,
      "outputs": []
    },
    {
      "cell_type": "code",
      "metadata": {
        "id": "bJGECjLiyT8r"
      },
      "source": [
        "df[['embarked_C', 'embarked_Q', 'embarked_S']] = hot_enc.fit_transform(df[['embarked']])"
      ],
      "execution_count": null,
      "outputs": []
    },
    {
      "cell_type": "code",
      "metadata": {
        "id": "KUXrqb4C-_Za"
      },
      "source": [
        "df.sample(5)"
      ],
      "execution_count": null,
      "outputs": []
    },
    {
      "cell_type": "code",
      "metadata": {
        "id": "rchdUpRgy0QG"
      },
      "source": [
        "hot_enc.categories_"
      ],
      "execution_count": null,
      "outputs": []
    },
    {
      "cell_type": "markdown",
      "metadata": {
        "id": "IOXwK3vy-_Za"
      },
      "source": [
        "### Codificando todas as variáveis: 'sex' e 'embarked' "
      ]
    },
    {
      "cell_type": "code",
      "metadata": {
        "id": "w-eIYQVGzLj-"
      },
      "source": [
        "X = df[['pclass','sex','embarked']]"
      ],
      "execution_count": null,
      "outputs": []
    },
    {
      "cell_type": "code",
      "metadata": {
        "id": "PT1r77Sq0S9n"
      },
      "source": [
        "X.head()"
      ],
      "execution_count": null,
      "outputs": []
    },
    {
      "cell_type": "code",
      "metadata": {
        "id": "S80ZNky8-_Zb"
      },
      "source": [
        "X.sample(10)"
      ],
      "execution_count": null,
      "outputs": []
    },
    {
      "cell_type": "code",
      "metadata": {
        "id": "Q5HQqvX10iUc"
      },
      "source": [
        "from sklearn.compose import make_column_transformer"
      ],
      "execution_count": null,
      "outputs": []
    },
    {
      "cell_type": "code",
      "metadata": {
        "id": "V8VE0eNa1cyD"
      },
      "source": [
        "col_transf = make_column_transformer((OneHotEncoder(), ['sex','embarked']),\n",
        "                                     remainder='passthrough', )"
      ],
      "execution_count": null,
      "outputs": []
    },
    {
      "cell_type": "code",
      "metadata": {
        "id": "fclC7Hiv-_Zb"
      },
      "source": [
        "col_transf.get_feature_names()"
      ],
      "execution_count": null,
      "outputs": []
    },
    {
      "cell_type": "code",
      "metadata": {
        "id": "r99iFqzC1NQB",
        "scrolled": true
      },
      "source": [
        "df_transform = pd.DataFrame(col_transf.fit_transform(X), columns=col_transf.get_feature_names())"
      ],
      "execution_count": null,
      "outputs": []
    },
    {
      "cell_type": "code",
      "metadata": {
        "scrolled": false,
        "id": "9cSqsOPc-_Zc"
      },
      "source": [
        "df_transform"
      ],
      "execution_count": null,
      "outputs": []
    },
    {
      "cell_type": "markdown",
      "metadata": {
        "id": "5YMTWCtf-_Zc"
      },
      "source": [
        "## Pipeline com codificação categóricas e cross-validation"
      ]
    },
    {
      "cell_type": "code",
      "metadata": {
        "id": "YX4SYz0Y1XFJ"
      },
      "source": [
        "from sklearn.pipeline import make_pipeline"
      ],
      "execution_count": null,
      "outputs": []
    },
    {
      "cell_type": "code",
      "metadata": {
        "id": "akwSCgnw-_Zd"
      },
      "source": [
        "X = df[['pclass','sex','embarked']]\n",
        "y = df['survived']"
      ],
      "execution_count": null,
      "outputs": []
    },
    {
      "cell_type": "code",
      "metadata": {
        "id": "ay9iwGfG-_Zd"
      },
      "source": [
        "col_transf = make_column_transformer((OneHotEncoder(), ['sex','embarked']),\n",
        "                                     remainder='passthrough')"
      ],
      "execution_count": null,
      "outputs": []
    },
    {
      "cell_type": "code",
      "metadata": {
        "id": "4ftt2OAF-_Zd"
      },
      "source": [
        "reg_log = LogisticRegression(solver='lbfgs')"
      ],
      "execution_count": null,
      "outputs": []
    },
    {
      "cell_type": "code",
      "metadata": {
        "id": "5-vqvzJF-_Zd"
      },
      "source": [
        ""
      ],
      "execution_count": null,
      "outputs": []
    },
    {
      "cell_type": "code",
      "metadata": {
        "id": "9-H53CDl2wO2"
      },
      "source": [
        "pipe = make_pipeline(col_transf, reg_log)"
      ],
      "execution_count": null,
      "outputs": []
    },
    {
      "cell_type": "code",
      "metadata": {
        "id": "jIMqRP74-_Zd"
      },
      "source": [
        "pipe"
      ],
      "execution_count": null,
      "outputs": []
    },
    {
      "cell_type": "code",
      "metadata": {
        "id": "4pdKHPQh26ae"
      },
      "source": [
        "cross_val_score(pipe, X, y, cv=10, scoring='accuracy').mean()"
      ],
      "execution_count": null,
      "outputs": []
    },
    {
      "cell_type": "code",
      "metadata": {
        "id": "1TMC6IhY3LAP"
      },
      "source": [
        "novo_X = X.sample(5, random_state=123)\n",
        "novo_X"
      ],
      "execution_count": null,
      "outputs": []
    },
    {
      "cell_type": "code",
      "metadata": {
        "id": "D9_TSLn64C3V"
      },
      "source": [
        "pipe.fit(X,y)"
      ],
      "execution_count": null,
      "outputs": []
    },
    {
      "cell_type": "code",
      "metadata": {
        "id": "iEpPlm014QIF",
        "scrolled": true
      },
      "source": [
        "pipe.predict(novo_X)"
      ],
      "execution_count": null,
      "outputs": []
    },
    {
      "cell_type": "code",
      "metadata": {
        "id": "xIhAu1Lg-_Zf"
      },
      "source": [
        "y.sample(5, random_state=123)"
      ],
      "execution_count": null,
      "outputs": []
    },
    {
      "cell_type": "markdown",
      "metadata": {
        "id": "d2WCNonk-_Zf"
      },
      "source": [
        "### pipeline tem algumas vantagens:\n",
        "\n",
        "1- Seu arquivo de treinamento permanece o mesmo e não vai crescer por causa do one-hot encoding.  \n",
        "2- Na predição de novos dados, não é necessário fazer pandas dummies no novo arquivo. Também evita eventuais problemas caso os novos dados não tenham todas as categorias que existem nos dados de treinamento. As dimensões do novo dataset será diferente e vai dar erro.  \n",
        "3- É possível fazer grid search para os parâmetros de pré-processamento e os parâmetros do modelo.  \n"
      ]
    },
    {
      "cell_type": "code",
      "metadata": {
        "id": "Lzki2t4v-_Zf"
      },
      "source": [
        ""
      ],
      "execution_count": null,
      "outputs": []
    }
  ]
}
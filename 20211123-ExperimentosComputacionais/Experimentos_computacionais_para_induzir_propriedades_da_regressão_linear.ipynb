{
  "cells": [
    {
      "cell_type": "markdown",
      "metadata": {
        "id": "v6bpIQjJIdsk"
      },
      "source": [
        "# Experimentos computacionais para induzir propriedades da regressão linear\n",
        "\n",
        "A reiteração de dúvidas quanto a propriedades de um modelo de regressão linear em diversos cenários imaginados pelos alunos mostra que a abordagem de simplesmente responder a perguntas principalmente por meio de intuição dos conceitos matemáticos pode ser insuficiente.\n",
        "\n",
        "## Meta-conhecimento\n",
        "\n",
        "Procuraremos construir experimentos computacionais genéricos que exemplifiquem uma situação com incerteza quanto às propriedades dos modelos, que possam ilustrar (e não demonstrar) uma possível resposta.\n",
        "\n",
        "Concretamente, sobre modelização por regressão linear, procuraremos descobrir/ilustrar propriedades das relações entre variáveis. Para isso, construiremos dados sintéticos (utilizando geradores prontos para isso) e criaremos uma variável target com alguma propriedade interessante a ser testada!\n",
        "\n",
        "Sugestões de primeiros experimentos:\n",
        "\n",
        "1. Com target gerado por combinação linear de variáveis independentes: \n",
        "    \n",
        "    a. conseguimos recuperar exatamente os coeficientes da regressão idênticos aos pesos da combinação linear? Avaliar R2\n",
        "\t\n",
        "    b. variantes: \n",
        "        - adicionando uma variável linearmente dependente das variáveis anteriores\n",
        "        - com duas variáveis imperfeitamente correlacionadas\n",
        "        - adicionando ruído no target\n",
        "        - excluindo uma ou várias variáveis condicionantes do dataset para treinamento\n",
        "\n",
        "2. Com target gerado por combinação linear, como item anterior, mas adicionando um componente do target como produto de duas variáveis independentes:\n",
        "    \n",
        "    a. repetir análise: coeficientes, resíduos\n",
        "\n",
        "3. Efeitos do tamanho relativo entre número de linhas e número de colunas do dataset. Os expertimentos anteriores foram provavelmente construídos com muito mais linhas do que colunas, mudaremos isso a seguir:\n",
        "\n",
        "    a. analise resultados da modelização realizada sobre dataset com igual número de linhas e colunas\n",
        "\n",
        "    b. sobre o dataset anterior descarte uma linha e compare o novo resultado com o anterior. Eventualmente, descarte múltiplas linhas e compare novamente.\n",
        "\n",
        "Procurem redigir uma proposta da propriedade geral assim demonstrada.\n",
        "\n",
        "Se conseguirem ilustrar experimentalmente uma propriedade particularmente interessante ou contra-intuitiva, compartilhem com o resto da turma!\n",
        "\n",
        "Possíveis perguntas que poderiam suscitar novos experimentos:\n",
        "- o que acontece na interpretação dos coeficientes se uma das variáveis tem um range de valores muito maior? Por exemplo, multiplicar a variável c0 por 1000\n",
        "- sugiro testar diretamente a função de geração de regressão do sklearn, utilizando seus parâmetros de ruído (noise), n_informative, effective_rank (para simular correlações entre as variáveis), etc.\n",
        "- traga suas dúvidas e sugestões de experimentos...\n",
        "\n",
        "\n",
        "Já temos um caderno com experimentos computacionais para as propriedades de sobreajustamento (overfit) que será apresentado posteriormente.\n",
        "\n",
        "Mas o método de experimentação computacional é extremamente genérico e deveria fazer parte do ferramental básico de todo cientista de dados.\n",
        "\n",
        "Procuraremos desenvolver uma adaptação para árvores de decisão! Utilizando regras lógicas para construir o target!\n",
        "\n",
        "Outro benefício do uso mais sistemático de dados sintéticos é de contornar as restrições de uso de dados reais, por questões de sigilo ou privacidade. Desde que os dados sintéticos reflitam as mesmas propriedades estatísticas dos dados reais, eles podem substituir o real, serem livremente publicados e utilizados em modelagem. Em tese, deveriam gerar os mesmos resultados... A ser testado! ;-)\n",
        "\n",
        "\n",
        "Referências:\n",
        "- geradores de dados sintéticos do sklearn: https://scikit-learn.org/stable/datasets/sample_generators.html\n",
        "- geradores de dados sintéticos: https://towardsdatascience.com/synthetic-data-generation-a-must-have-skill-for-new-data-scientists-915896c0c1ae\n",
        "- dados sintéticos para preservar sigilo de dados originais: https://research.aimultiple.com/synthetic-data/"
      ]
    },
    {
      "cell_type": "code",
      "execution_count": 68,
      "metadata": {
        "id": "XmSbEst7Lpkm"
      },
      "outputs": [],
      "source": [
        "# construindo dados sintéticos (utilizando o gerador de dados do scikit-learn)\n",
        "# https://scikit-learn.org/stable/modules/generated/sklearn.datasets.make_regression.html\n",
        "\n",
        "from sklearn.datasets import make_regression\n",
        "import pandas as pd"
      ]
    },
    {
      "cell_type": "code",
      "execution_count": 69,
      "metadata": {
        "colab": {
          "base_uri": "https://localhost:8080/",
          "height": 423
        },
        "id": "ENG0D0d3PV_4",
        "outputId": "2a920519-3eb5-4ab2-ce09-46c5445842c7"
      },
      "outputs": [
        {
          "data": {
            "text/html": [
              "<div>\n",
              "<style scoped>\n",
              "    .dataframe tbody tr th:only-of-type {\n",
              "        vertical-align: middle;\n",
              "    }\n",
              "\n",
              "    .dataframe tbody tr th {\n",
              "        vertical-align: top;\n",
              "    }\n",
              "\n",
              "    .dataframe thead th {\n",
              "        text-align: right;\n",
              "    }\n",
              "</style>\n",
              "<table border=\"1\" class=\"dataframe\">\n",
              "  <thead>\n",
              "    <tr style=\"text-align: right;\">\n",
              "      <th></th>\n",
              "      <th>c0</th>\n",
              "      <th>c1</th>\n",
              "      <th>c2</th>\n",
              "      <th>c3</th>\n",
              "      <th>c4</th>\n",
              "    </tr>\n",
              "  </thead>\n",
              "  <tbody>\n",
              "    <tr>\n",
              "      <th>0</th>\n",
              "      <td>-1.039906</td>\n",
              "      <td>0.612774</td>\n",
              "      <td>-1.053416</td>\n",
              "      <td>-0.623769</td>\n",
              "      <td>1.914031</td>\n",
              "    </tr>\n",
              "    <tr>\n",
              "      <th>1</th>\n",
              "      <td>0.317453</td>\n",
              "      <td>-0.332860</td>\n",
              "      <td>-0.093387</td>\n",
              "      <td>-0.529332</td>\n",
              "      <td>-1.514470</td>\n",
              "    </tr>\n",
              "    <tr>\n",
              "      <th>2</th>\n",
              "      <td>0.538910</td>\n",
              "      <td>-1.037246</td>\n",
              "      <td>-0.190339</td>\n",
              "      <td>-0.875618</td>\n",
              "      <td>-1.382800</td>\n",
              "    </tr>\n",
              "    <tr>\n",
              "      <th>3</th>\n",
              "      <td>-1.776246</td>\n",
              "      <td>-0.080600</td>\n",
              "      <td>-0.833056</td>\n",
              "      <td>0.915390</td>\n",
              "      <td>-0.549540</td>\n",
              "    </tr>\n",
              "    <tr>\n",
              "      <th>4</th>\n",
              "      <td>-0.223466</td>\n",
              "      <td>-0.349317</td>\n",
              "      <td>-0.019420</td>\n",
              "      <td>-0.303180</td>\n",
              "      <td>0.799942</td>\n",
              "    </tr>\n",
              "    <tr>\n",
              "      <th>...</th>\n",
              "      <td>...</td>\n",
              "      <td>...</td>\n",
              "      <td>...</td>\n",
              "      <td>...</td>\n",
              "      <td>...</td>\n",
              "    </tr>\n",
              "    <tr>\n",
              "      <th>995</th>\n",
              "      <td>0.758929</td>\n",
              "      <td>0.281191</td>\n",
              "      <td>0.104201</td>\n",
              "      <td>-0.062593</td>\n",
              "      <td>-0.753965</td>\n",
              "    </tr>\n",
              "    <tr>\n",
              "      <th>996</th>\n",
              "      <td>0.027313</td>\n",
              "      <td>-0.047371</td>\n",
              "      <td>-1.582177</td>\n",
              "      <td>-0.940399</td>\n",
              "      <td>-0.560761</td>\n",
              "    </tr>\n",
              "    <tr>\n",
              "      <th>997</th>\n",
              "      <td>0.965397</td>\n",
              "      <td>1.236131</td>\n",
              "      <td>0.088658</td>\n",
              "      <td>0.197316</td>\n",
              "      <td>-0.617652</td>\n",
              "    </tr>\n",
              "    <tr>\n",
              "      <th>998</th>\n",
              "      <td>0.648710</td>\n",
              "      <td>-0.167118</td>\n",
              "      <td>0.146714</td>\n",
              "      <td>1.206509</td>\n",
              "      <td>-0.816936</td>\n",
              "    </tr>\n",
              "    <tr>\n",
              "      <th>999</th>\n",
              "      <td>-2.391956</td>\n",
              "      <td>0.844774</td>\n",
              "      <td>-0.005560</td>\n",
              "      <td>1.178513</td>\n",
              "      <td>-1.373403</td>\n",
              "    </tr>\n",
              "  </tbody>\n",
              "</table>\n",
              "<p>1000 rows × 5 columns</p>\n",
              "</div>"
            ],
            "text/plain": [
              "           c0        c1        c2        c3        c4\n",
              "0   -1.039906  0.612774 -1.053416 -0.623769  1.914031\n",
              "1    0.317453 -0.332860 -0.093387 -0.529332 -1.514470\n",
              "2    0.538910 -1.037246 -0.190339 -0.875618 -1.382800\n",
              "3   -1.776246 -0.080600 -0.833056  0.915390 -0.549540\n",
              "4   -0.223466 -0.349317 -0.019420 -0.303180  0.799942\n",
              "..        ...       ...       ...       ...       ...\n",
              "995  0.758929  0.281191  0.104201 -0.062593 -0.753965\n",
              "996  0.027313 -0.047371 -1.582177 -0.940399 -0.560761\n",
              "997  0.965397  1.236131  0.088658  0.197316 -0.617652\n",
              "998  0.648710 -0.167118  0.146714  1.206509 -0.816936\n",
              "999 -2.391956  0.844774 -0.005560  1.178513 -1.373403\n",
              "\n",
              "[1000 rows x 5 columns]"
            ]
          },
          "execution_count": 69,
          "metadata": {},
          "output_type": "execute_result"
        }
      ],
      "source": [
        "N_SAMPLES = 1000\n",
        "X, y = make_regression(n_samples=N_SAMPLES, n_features=5, random_state=42)\n",
        "df = pd.DataFrame(X)\n",
        "df.columns = [f'c{i}' for i in df.columns]\n",
        "df"
      ]
    },
    {
      "cell_type": "code",
      "execution_count": 70,
      "metadata": {
        "id": "wh_eH72_QwZ4"
      },
      "outputs": [],
      "source": [
        "# Com target gerado por combinação linear de variáveis independentes:\n",
        "# Fiquem livres para testar qualquer combinação linear, alterando os pesos\n",
        "target = df['c0'] + 2*df['c1'] + 3*df['c2'] + 4*df['c3'] + 5*df['c4']\n",
        "\n",
        "# Remapeando as variáveis\n",
        "X = df\n",
        "y = target"
      ]
    },
    {
      "cell_type": "code",
      "execution_count": 71,
      "metadata": {
        "colab": {
          "base_uri": "https://localhost:8080/"
        },
        "id": "BGQf2EXwRj0z",
        "outputId": "ecabcad2-9702-4b7e-83c0-1f61226f9eff"
      },
      "outputs": [
        {
          "data": {
            "text/plain": [
              "LinearRegression()"
            ]
          },
          "execution_count": 71,
          "metadata": {},
          "output_type": "execute_result"
        }
      ],
      "source": [
        "# a. conseguimos recuperar exatamente os coeficientes da regressão idênticos aos pesos da combinação linear? Avaliar R2\n",
        "\n",
        "# importamos as funções necessárias da biblioteca scikit-learn:\n",
        "# modelo de regressão linear\n",
        "from sklearn.linear_model import LinearRegression\n",
        "\n",
        "# separação treino-teste\n",
        "from sklearn.model_selection import train_test_split\n",
        "\n",
        "X_train, X_test, y_train, y_test = train_test_split(X, y, test_size=0.20, random_state=42)\n",
        "\n",
        "# instanciando o modelo de regressão linear\n",
        "lr = LinearRegression()\n",
        "\n",
        "# treinando o modelo\n",
        "lr.fit(X_train, y_train)"
      ]
    },
    {
      "cell_type": "code",
      "execution_count": 72,
      "metadata": {
        "id": "X9aI05PYS_oj"
      },
      "outputs": [
        {
          "data": {
            "text/plain": [
              "1.0"
            ]
          },
          "execution_count": 72,
          "metadata": {},
          "output_type": "execute_result"
        }
      ],
      "source": [
        "# Qual o desempenho esperado e porque?\n",
        "# avaliando o desempenho\n",
        "lr.score(X_test, y_test)"
      ]
    },
    {
      "cell_type": "code",
      "execution_count": 73,
      "metadata": {
        "id": "L1L4IR9yTMIq"
      },
      "outputs": [
        {
          "data": {
            "text/html": [
              "<div>\n",
              "<style scoped>\n",
              "    .dataframe tbody tr th:only-of-type {\n",
              "        vertical-align: middle;\n",
              "    }\n",
              "\n",
              "    .dataframe tbody tr th {\n",
              "        vertical-align: top;\n",
              "    }\n",
              "\n",
              "    .dataframe thead th {\n",
              "        text-align: right;\n",
              "    }\n",
              "</style>\n",
              "<table border=\"1\" class=\"dataframe\">\n",
              "  <thead>\n",
              "    <tr style=\"text-align: right;\">\n",
              "      <th></th>\n",
              "      <th>Variável</th>\n",
              "      <th>Coeficientes</th>\n",
              "    </tr>\n",
              "  </thead>\n",
              "  <tbody>\n",
              "    <tr>\n",
              "      <th>0</th>\n",
              "      <td>c0</td>\n",
              "      <td>1.0</td>\n",
              "    </tr>\n",
              "    <tr>\n",
              "      <th>1</th>\n",
              "      <td>c1</td>\n",
              "      <td>2.0</td>\n",
              "    </tr>\n",
              "    <tr>\n",
              "      <th>2</th>\n",
              "      <td>c2</td>\n",
              "      <td>3.0</td>\n",
              "    </tr>\n",
              "    <tr>\n",
              "      <th>3</th>\n",
              "      <td>c3</td>\n",
              "      <td>4.0</td>\n",
              "    </tr>\n",
              "    <tr>\n",
              "      <th>4</th>\n",
              "      <td>c4</td>\n",
              "      <td>5.0</td>\n",
              "    </tr>\n",
              "  </tbody>\n",
              "</table>\n",
              "</div>"
            ],
            "text/plain": [
              "  Variável  Coeficientes\n",
              "0       c0           1.0\n",
              "1       c1           2.0\n",
              "2       c2           3.0\n",
              "3       c3           4.0\n",
              "4       c4           5.0"
            ]
          },
          "execution_count": 73,
          "metadata": {},
          "output_type": "execute_result"
        }
      ],
      "source": [
        "# Inspecionando o modelo\n",
        "\n",
        "# o que se espera que sejam os coeficientes?\n",
        "# Visualização dos coeficientes\n",
        "pesos = pd.DataFrame({'Variável': X.columns, 'Coeficientes': lr.coef_})\n",
        "pesos"
      ]
    },
    {
      "cell_type": "code",
      "execution_count": 74,
      "metadata": {
        "id": "aaxTt55vUDsV"
      },
      "outputs": [
        {
          "data": {
            "text/plain": [
              "8.326672684688674e-17"
            ]
          },
          "execution_count": 74,
          "metadata": {},
          "output_type": "execute_result"
        }
      ],
      "source": [
        "# Quanto deveria ser o intercepto?\n",
        "lr.intercept_\n",
        "\n",
        "# O que modificar na construção do target para controlar o intercepto?"
      ]
    },
    {
      "cell_type": "code",
      "execution_count": 90,
      "metadata": {},
      "outputs": [
        {
          "name": "stdout",
          "output_type": "stream",
          "text": [
            "num de ruídos no X_train: 0\n",
            "score: 0.6791829772571718\n",
            "pesos:\n",
            "   Variável  Coeficientes\n",
            "0       c0      1.452248\n",
            "1       c1      1.776813\n",
            "2       c2      3.115225\n",
            "3       c3      3.917769\n",
            "4       c4      4.727845\n",
            "intercept: 0.15215977797615213\n"
          ]
        }
      ],
      "source": [
        "import random\n",
        "import numpy as np\n",
        "\n",
        "def teste1(intercept=0, peso_C0=1, porcentagem_ruido_train=0, add_ruido_Y=False, desvio_padrao_ruido_Y=1):\n",
        "    return teste2(np.mean, intercept=intercept, peso_C0=peso_C0, porcentagem_ruido_train=porcentagem_ruido_train\n",
        "                  , add_ruido_Y=add_ruido_Y, desvio_padrao_ruido_Y=desvio_padrao_ruido_Y)\n",
        "    \n",
        "def teste2(f_ruido_train, intercept=0, peso_C0=1, porcentagem_ruido_train=0, add_ruido_Y=False, desvio_padrao_ruido_Y=1):\n",
        "    # Com target gerado por combinação linear de variáveis independentes:\n",
        "    # Fiquem livres para testar qualquer combinação linear, alterando os pesos\n",
        "    target = peso_C0*df['c0'] + 2*df['c1'] + 3*df['c2'] + 4*df['c3'] + 5*df['c4'] + intercept\n",
        "\n",
        "    # Remapeando as variáveis\n",
        "    X = df\n",
        "    y = target\n",
        "    \n",
        "    if add_ruido_Y:\n",
        "        ruido_Y = np.random.normal(0, desvio_padrao_ruido_Y, len(y))\n",
        "        y = y + ruido_Y\n",
        "    \n",
        "    X_train, X_test, y_train, y_test = train_test_split(X, y, test_size=0.20, random_state=42)\n",
        "    \n",
        "    n_ruido = int(porcentagem_ruido_train*len(X_train))\n",
        "    print('num de ruídos no X_train: ' + str(n_ruido))\n",
        "\n",
        "    for i in range(n_ruido):\n",
        "        newX = pd.Series([random.random()*f_ruido_train(df['c0'])\n",
        "                        ,random.random()*f_ruido_train(df['c1'])\n",
        "                        ,random.random()*f_ruido_train(df['c2'])\n",
        "                        ,random.random()*f_ruido_train(df['c3'])\n",
        "                        ,random.random()*f_ruido_train(df['c4'])]\n",
        "                         , index=X.columns)\n",
        "        X_train = X_train.append(newX, ignore_index=True)\n",
        "        y_train = y_train.append(pd.Series(random.random()*f_ruido_train(y_train)))\n",
        "    \n",
        "    # instanciando o modelo de regressão linear\n",
        "    lr = LinearRegression()\n",
        "\n",
        "    # treinando o modelo\n",
        "    lr.fit(X_train, y_train)\n",
        "    \n",
        "    print('score:', lr.score(X_test, y_test))\n",
        "    \n",
        "    pesos = pd.DataFrame({'Variável': X.columns, 'Coeficientes': lr.coef_})\n",
        "    print('pesos:\\n',pesos)\n",
        "    \n",
        "    intercept = lr.intercept_\n",
        "    print('intercept:', intercept)\n",
        "    \n",
        "teste1(add_ruido_Y=True, desvio_padrao_ruido_Y=5)"
      ]
    },
    {
      "cell_type": "code",
      "execution_count": 84,
      "metadata": {},
      "outputs": [
        {
          "name": "stdout",
          "output_type": "stream",
          "text": [
            "num de ruídos no X_train: 0\n",
            "score: 0.9803983074353427\n",
            "pesos:\n",
            "   Variável  Coeficientes\n",
            "0       c0      1.090981\n",
            "1       c1      1.983867\n",
            "2       c2      2.931833\n",
            "3       c3      4.007107\n",
            "4       c4      4.959361\n",
            "intercept: -0.0078558226131615\n"
          ]
        }
      ],
      "source": [
        "teste1(add_ruido_Y=True)"
      ]
    },
    {
      "cell_type": "code",
      "execution_count": 85,
      "metadata": {},
      "outputs": [
        {
          "name": "stdout",
          "output_type": "stream",
          "text": [
            "num de ruídos no X_train: 80\n",
            "score: 0.8828842076149664\n",
            "pesos:\n",
            "   Variável  Coeficientes\n",
            "0       c0      0.214028\n",
            "1       c1      1.058258\n",
            "2       c2      2.172525\n",
            "3       c3      2.673239\n",
            "4       c4      3.509337\n",
            "intercept: -0.4930843171830712\n"
          ]
        }
      ],
      "source": [
        "teste2(f_ruido_train=np.max, porcentagem_ruido_train=0.1)"
      ]
    },
    {
      "cell_type": "code",
      "execution_count": 88,
      "metadata": {},
      "outputs": [
        {
          "name": "stdout",
          "output_type": "stream",
          "text": [
            "num de ruídos no X_train: 160\n",
            "score: 0.8183926732006948\n",
            "pesos:\n",
            "   Variável  Coeficientes\n",
            "0       c0     -0.070502\n",
            "1       c1      0.945410\n",
            "2       c2      1.896374\n",
            "3       c3      2.461814\n",
            "4       c4      3.069562\n",
            "intercept: -0.6185588129227075\n"
          ]
        }
      ],
      "source": [
        "teste2(f_ruido_train=np.max, porcentagem_ruido_train=0.2)"
      ]
    },
    {
      "cell_type": "code",
      "execution_count": 56,
      "metadata": {},
      "outputs": [
        {
          "name": "stdout",
          "output_type": "stream",
          "text": [
            "num de ruídos no X_train: 32\n",
            "score: 0.7732449516447119\n",
            "pesos:\n",
            "   Variável  Coeficientes\n",
            "0       c0     -0.061074\n",
            "1       c1      0.649311\n",
            "2       c2      2.441707\n",
            "3       c3      1.243285\n",
            "4       c4      3.706360\n",
            "intercept: -0.552114762848575\n"
          ]
        }
      ],
      "source": [
        "teste2(f_ruido = np.max, porcentagem_ruido_X=0.4)"
      ]
    },
    {
      "cell_type": "code",
      "execution_count": 53,
      "metadata": {},
      "outputs": [
        {
          "name": "stdout",
          "output_type": "stream",
          "text": [
            "num de ruídos no X_train: 8\n",
            "score: 0.9999980707298816\n",
            "pesos:\n",
            "   Variável  Coeficientes\n",
            "0       c0      0.999041\n",
            "1       c1      1.999693\n",
            "2       c2      2.999098\n",
            "3       c3      4.000482\n",
            "4       c4      4.999714\n",
            "intercept: 0.012530163756105887\n"
          ]
        }
      ],
      "source": [
        "teste1(porcentagem_ruido_X=0.1)"
      ]
    },
    {
      "cell_type": "code",
      "execution_count": 46,
      "metadata": {},
      "outputs": [
        {
          "name": "stdout",
          "output_type": "stream",
          "text": [
            "num de ruídos no X_train: 16\n",
            "score: 0.9999931279556895\n",
            "pesos:\n",
            "   Variável  Coeficientes\n",
            "0       c0      0.998365\n",
            "1       c1      1.998950\n",
            "2       c2      2.997939\n",
            "3       c3      4.000852\n",
            "4       c4      4.999299\n",
            "intercept: 0.023819026245005075\n"
          ]
        }
      ],
      "source": [
        "teste1(porcentagem_ruido_X=0.2)"
      ]
    },
    {
      "cell_type": "code",
      "execution_count": 47,
      "metadata": {},
      "outputs": [
        {
          "name": "stdout",
          "output_type": "stream",
          "text": [
            "num de ruídos no X_train: 32\n",
            "score: 0.9999961673134147\n",
            "pesos:\n",
            "   Variável  Coeficientes\n",
            "0       c0      0.998895\n",
            "1       c1      1.998463\n",
            "2       c2      2.998850\n",
            "3       c3      4.000546\n",
            "4       c4      4.998359\n",
            "intercept: 0.01774414150674256\n"
          ]
        }
      ],
      "source": [
        "teste1(porcentagem_ruido_X=0.4)"
      ]
    },
    {
      "cell_type": "code",
      "execution_count": 48,
      "metadata": {},
      "outputs": [
        {
          "name": "stdout",
          "output_type": "stream",
          "text": [
            "num de ruídos no X_train: 64\n",
            "score: 0.9999917168952419\n",
            "pesos:\n",
            "   Variável  Coeficientes\n",
            "0       c0      0.997826\n",
            "1       c1      1.997558\n",
            "2       c2      2.997102\n",
            "3       c3      4.000796\n",
            "4       c4      4.997386\n",
            "intercept: 0.025722141155244467\n"
          ]
        }
      ],
      "source": [
        "teste1(porcentagem_ruido_X=0.8)"
      ]
    },
    {
      "cell_type": "code",
      "execution_count": 49,
      "metadata": {},
      "outputs": [
        {
          "name": "stdout",
          "output_type": "stream",
          "text": [
            "num de ruídos no X_train: 160\n",
            "score: 0.999974246302745\n",
            "pesos:\n",
            "   Variável  Coeficientes\n",
            "0       c0      0.996842\n",
            "1       c1      1.994165\n",
            "2       c2      2.995177\n",
            "3       c3      4.001145\n",
            "4       c4      4.991540\n",
            "intercept: 0.0443504164118924\n"
          ]
        }
      ],
      "source": [
        "teste1(porcentagem_ruido_X=2)"
      ]
    },
    {
      "cell_type": "code",
      "execution_count": 29,
      "metadata": {},
      "outputs": [
        {
          "name": "stdout",
          "output_type": "stream",
          "text": [
            "num de ruídos no X_train: 0\n",
            "score: 1.0\n",
            "pesos:\n",
            "   Variável  Coeficientes\n",
            "0       c0           1.0\n",
            "1       c1           2.0\n",
            "2       c2           3.0\n",
            "3       c3           4.0\n",
            "4       c4           5.0\n",
            "intercept: 7.28583859910259e-17\n"
          ]
        }
      ],
      "source": [
        "teste1()"
      ]
    },
    {
      "cell_type": "code",
      "execution_count": 16,
      "metadata": {},
      "outputs": [
        {
          "name": "stdout",
          "output_type": "stream",
          "text": [
            "score: 1.0\n",
            "pesos:\n",
            "   Variável  Coeficientes\n",
            "0       c0           1.0\n",
            "1       c1           2.0\n",
            "2       c2           3.0\n",
            "3       c3           4.0\n",
            "4       c4           5.0\n",
            "intercept: 10.0\n"
          ]
        }
      ],
      "source": [
        "teste1(intercept=10)"
      ]
    },
    {
      "cell_type": "code",
      "execution_count": 19,
      "metadata": {},
      "outputs": [
        {
          "name": "stdout",
          "output_type": "stream",
          "text": [
            "score: 1.0\n",
            "pesos:\n",
            "   Variável  Coeficientes\n",
            "0       c0      0.729518\n",
            "1       c1      2.000000\n",
            "2       c2      3.000000\n",
            "3       c3      4.000000\n",
            "4       c4      5.000000\n",
            "intercept: 1.3183898417423734e-16\n"
          ]
        }
      ],
      "source": [
        "teste1(peso_C0=random.random())"
      ]
    },
    {
      "cell_type": "code",
      "execution_count": 11,
      "metadata": {
        "id": "jhg74QWdUYvM"
      },
      "outputs": [
        {
          "data": {
            "image/png": "[encoded data removed]",
            "text/plain": [
              "<Figure size 1080x288 with 1 Axes>"
            ]
          },
          "metadata": {
            "needs_background": "light"
          },
          "output_type": "display_data"
        }
      ],
      "source": [
        "# Visando facilitar reuso para as próximas análises, \n",
        "# segue código de análise de resíduos\n",
        "import matplotlib.pyplot as plt\n",
        "\n",
        "y_pred = lr.predict(X_test)\n",
        "\n",
        "plt.figure(figsize=(15,4))\n",
        "plt.scatter(y_pred,y_test-y_pred)\n",
        "plt.title(\"Gráfico de resíduos\")\n",
        "plt.xlabel(\"Valor previsto\")\n",
        "plt.ylabel(\"Resíduos\")\n",
        "plt.show()"
      ]
    },
    {
      "cell_type": "code",
      "execution_count": 12,
      "metadata": {
        "id": "90_82n2GXT4X"
      },
      "outputs": [
        {
          "data": {
            "image/png": "[encoded data removed]",
            "text/plain": [
              "<Figure size 720x288 with 1 Axes>"
            ]
          },
          "metadata": {
            "needs_background": "light"
          },
          "output_type": "display_data"
        }
      ],
      "source": [
        "plt.figure(figsize=(10,4))\n",
        "plt.hist(y_test-y_pred, bins= 11)\n",
        "plt.title(\"Histograma de resíduos\")\n",
        "plt.show()"
      ]
    },
    {
      "cell_type": "code",
      "execution_count": 13,
      "metadata": {
        "id": "ycj7PB4-Xhyk"
      },
      "outputs": [
        {
          "data": {
            "image/png": "[encoded data removed]",
            "text/plain": [
              "<Figure size 432x288 with 1 Axes>"
            ]
          },
          "metadata": {
            "needs_background": "light"
          },
          "output_type": "display_data"
        }
      ],
      "source": [
        "## Gráfico QQ\n",
        "from statsmodels.graphics.gofplots import qqplot_2samples\n",
        "\n",
        "qqplot_2samples(y_test,y_pred,line='45')\n",
        "plt.title(\"Gráfico QQ\")\n",
        "plt.xlabel(\"Quantis de valores observados\")\n",
        "plt.ylabel(\"Quantis de valores previstos\")\n",
        "plt.show()"
      ]
    },
    {
      "cell_type": "markdown",
      "metadata": {
        "id": "zeNFnd-XUZFM"
      },
      "source": [
        "Sobre essa base, vamos agora construir as variantes sugeridas:\n",
        "- adicionando uma variável linearmente dependente das variáveis anteriores\n",
        "- com duas variáveis imperfeitamente correlacionadas (ruído na relação entre as variáveis)\n",
        "- adicionando ruído no target (cf. numpy.random.normal ou outra distribuição)\n",
        "- excluindo uma ou várias variáveis condicionantes do dataset para treinamento\n"
      ]
    },
    {
      "cell_type": "code",
      "execution_count": null,
      "metadata": {
        "colab": {
          "base_uri": "https://localhost:8080/",
          "height": 423
        },
        "id": "E6uYex47UkMC",
        "outputId": "41172399-9d45-4400-d22c-d7daf521312a"
      },
      "outputs": [
        {
          "data": {
            "text/html": [
              "<div>\n",
              "<style scoped>\n",
              "    .dataframe tbody tr th:only-of-type {\n",
              "        vertical-align: middle;\n",
              "    }\n",
              "\n",
              "    .dataframe tbody tr th {\n",
              "        vertical-align: top;\n",
              "    }\n",
              "\n",
              "    .dataframe thead th {\n",
              "        text-align: right;\n",
              "    }\n",
              "</style>\n",
              "<table border=\"1\" class=\"dataframe\">\n",
              "  <thead>\n",
              "    <tr style=\"text-align: right;\">\n",
              "      <th></th>\n",
              "      <th>c0</th>\n",
              "      <th>c1</th>\n",
              "      <th>c2</th>\n",
              "      <th>c3</th>\n",
              "      <th>c4</th>\n",
              "      <th>3df0_2df1</th>\n",
              "    </tr>\n",
              "  </thead>\n",
              "  <tbody>\n",
              "    <tr>\n",
              "      <th>0</th>\n",
              "      <td>-0.937825</td>\n",
              "      <td>0.515048</td>\n",
              "      <td>0.515035</td>\n",
              "      <td>3.852731</td>\n",
              "      <td>0.513786</td>\n",
              "      <td>-1.783380</td>\n",
              "    </tr>\n",
              "    <tr>\n",
              "      <th>1</th>\n",
              "      <td>1.088951</td>\n",
              "      <td>-0.715304</td>\n",
              "      <td>0.064280</td>\n",
              "      <td>0.679598</td>\n",
              "      <td>-1.077745</td>\n",
              "      <td>1.836244</td>\n",
              "    </tr>\n",
              "    <tr>\n",
              "      <th>2</th>\n",
              "      <td>-0.601707</td>\n",
              "      <td>-1.057711</td>\n",
              "      <td>1.852278</td>\n",
              "      <td>0.822545</td>\n",
              "      <td>-0.013497</td>\n",
              "      <td>-3.920542</td>\n",
              "    </tr>\n",
              "    <tr>\n",
              "      <th>3</th>\n",
              "      <td>0.821903</td>\n",
              "      <td>0.091761</td>\n",
              "      <td>0.087047</td>\n",
              "      <td>-1.987569</td>\n",
              "      <td>-0.299007</td>\n",
              "      <td>2.649229</td>\n",
              "    </tr>\n",
              "    <tr>\n",
              "      <th>4</th>\n",
              "      <td>1.549934</td>\n",
              "      <td>0.813517</td>\n",
              "      <td>-0.783253</td>\n",
              "      <td>-1.230864</td>\n",
              "      <td>-0.322062</td>\n",
              "      <td>6.276838</td>\n",
              "    </tr>\n",
              "    <tr>\n",
              "      <th>...</th>\n",
              "      <td>...</td>\n",
              "      <td>...</td>\n",
              "      <td>...</td>\n",
              "      <td>...</td>\n",
              "      <td>...</td>\n",
              "      <td>...</td>\n",
              "    </tr>\n",
              "    <tr>\n",
              "      <th>95</th>\n",
              "      <td>0.232050</td>\n",
              "      <td>-0.718444</td>\n",
              "      <td>-1.448084</td>\n",
              "      <td>-0.213447</td>\n",
              "      <td>-1.407464</td>\n",
              "      <td>-0.740739</td>\n",
              "    </tr>\n",
              "    <tr>\n",
              "      <th>96</th>\n",
              "      <td>-1.415371</td>\n",
              "      <td>-0.802277</td>\n",
              "      <td>-0.420645</td>\n",
              "      <td>-0.161286</td>\n",
              "      <td>-0.342715</td>\n",
              "      <td>-5.850667</td>\n",
              "    </tr>\n",
              "    <tr>\n",
              "      <th>97</th>\n",
              "      <td>0.404051</td>\n",
              "      <td>0.257550</td>\n",
              "      <td>1.886186</td>\n",
              "      <td>-0.074446</td>\n",
              "      <td>0.174578</td>\n",
              "      <td>1.727253</td>\n",
              "    </tr>\n",
              "    <tr>\n",
              "      <th>98</th>\n",
              "      <td>-0.926930</td>\n",
              "      <td>-1.024388</td>\n",
              "      <td>-0.059525</td>\n",
              "      <td>-0.252568</td>\n",
              "      <td>-3.241267</td>\n",
              "      <td>-4.829567</td>\n",
              "    </tr>\n",
              "    <tr>\n",
              "      <th>99</th>\n",
              "      <td>-0.974682</td>\n",
              "      <td>-0.820682</td>\n",
              "      <td>0.787085</td>\n",
              "      <td>0.963376</td>\n",
              "      <td>1.158596</td>\n",
              "      <td>-4.565410</td>\n",
              "    </tr>\n",
              "  </tbody>\n",
              "</table>\n",
              "<p>100 rows × 6 columns</p>\n",
              "</div>"
            ],
            "text/plain": [
              "          c0        c1        c2        c3        c4  3df0_2df1\n",
              "0  -0.937825  0.515048  0.515035  3.852731  0.513786  -1.783380\n",
              "1   1.088951 -0.715304  0.064280  0.679598 -1.077745   1.836244\n",
              "2  -0.601707 -1.057711  1.852278  0.822545 -0.013497  -3.920542\n",
              "3   0.821903  0.091761  0.087047 -1.987569 -0.299007   2.649229\n",
              "4   1.549934  0.813517 -0.783253 -1.230864 -0.322062   6.276838\n",
              "..       ...       ...       ...       ...       ...        ...\n",
              "95  0.232050 -0.718444 -1.448084 -0.213447 -1.407464  -0.740739\n",
              "96 -1.415371 -0.802277 -0.420645 -0.161286 -0.342715  -5.850667\n",
              "97  0.404051  0.257550  1.886186 -0.074446  0.174578   1.727253\n",
              "98 -0.926930 -1.024388 -0.059525 -0.252568 -3.241267  -4.829567\n",
              "99 -0.974682 -0.820682  0.787085  0.963376  1.158596  -4.565410\n",
              "\n",
              "[100 rows x 6 columns]"
            ]
          },
          "execution_count": 37,
          "metadata": {},
          "output_type": "execute_result"
        }
      ],
      "source": [
        "# adicionando uma variável linearmente dependente das variáveis anteriores\n",
        "df['3df0_2df1'] = 3*df.c0 + 2*df.c1\n",
        "df"
      ]
    },
    {
      "cell_type": "code",
      "execution_count": null,
      "metadata": {
        "id": "ZirBgTnmU7fP"
      },
      "outputs": [],
      "source": [
        "# Agora, continue a análise como fizemos na aula anterior para esse caso de nova variável linearmente dependente"
      ]
    }
  ],
  "metadata": {
    "colab": {
      "name": "Experimentos computacionais para induzir propriedades da regressão linear.ipynb",
      "provenance": []
    },
    "kernelspec": {
      "display_name": "Python 3",
      "name": "python3"
    },
    "language_info": {
      "codemirror_mode": {
        "name": "ipython",
        "version": 3
      },
      "file_extension": ".py",
      "mimetype": "text/x-python",
      "name": "python",
      "nbconvert_exporter": "python",
      "pygments_lexer": "ipython3",
      "version": "3.9.1"
    }
  },
  "nbformat": 4,
  "nbformat_minor": 0
}

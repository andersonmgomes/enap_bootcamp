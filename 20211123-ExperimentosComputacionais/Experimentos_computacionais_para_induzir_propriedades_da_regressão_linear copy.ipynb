{
  "cells": [
    {
      "cell_type": "markdown",
      "metadata": {
        "id": "v6bpIQjJIdsk"
      },
      "source": [
        "# Experimentos computacionais para induzir propriedades da regressão linear\n",
        "\n",
        "A reiteração de dúvidas quanto a propriedades de um modelo de regressão linear em diversos cenários imaginados pelos alunos mostra que a abordagem de simplesmente responder a perguntas principalmente por meio de intuição dos conceitos matemáticos pode ser insuficiente.\n",
        "\n",
        "## Meta-conhecimento\n",
        "\n",
        "Procuraremos construir experimentos computacionais genéricos que exemplifiquem uma situação com incerteza quanto às propriedades dos modelos, que possam ilustrar (e não demonstrar) uma possível resposta.\n",
        "\n",
        "Concretamente, sobre modelização por regressão linear, procuraremos descobrir/ilustrar propriedades das relações entre variáveis. Para isso, construiremos dados sintéticos (utilizando geradores prontos para isso) e criaremos uma variável target com alguma propriedade interessante a ser testada!\n",
        "\n",
        "Sugestões de primeiros experimentos:\n",
        "\n",
        "1. Com target gerado por combinação linear de variáveis independentes: \n",
        "    \n",
        "    a. conseguimos recuperar exatamente os coeficientes da regressão idênticos aos pesos da combinação linear? Avaliar R2\n",
        "\t\n",
        "    b. variantes: \n",
        "        - adicionando uma variável linearmente dependente das variáveis anteriores\n",
        "        - com duas variáveis imperfeitamente correlacionadas\n",
        "        - adicionando ruído no target\n",
        "        - excluindo uma ou várias variáveis condicionantes do dataset para treinamento\n",
        "\n",
        "2. Com target gerado por combinação linear, como item anterior, mas adicionando um componente do target como produto de duas variáveis independentes:\n",
        "    \n",
        "    a. repetir análise: coeficientes, resíduos\n",
        "\n",
        "3. Efeitos do tamanho relativo entre número de linhas e número de colunas do dataset. Os expertimentos anteriores foram provavelmente construídos com muito mais linhas do que colunas, mudaremos isso a seguir:\n",
        "\n",
        "    a. analise resultados da modelização realizada sobre dataset com igual número de linhas e colunas\n",
        "\n",
        "    b. sobre o dataset anterior descarte uma linha e compare o novo resultado com o anterior. Eventualmente, descarte múltiplas linhas e compare novamente.\n",
        "\n",
        "Procurem redigir uma proposta da propriedade geral assim demonstrada.\n",
        "\n",
        "Se conseguirem ilustrar experimentalmente uma propriedade particularmente interessante ou contra-intuitiva, compartilhem com o resto da turma!\n",
        "\n",
        "Possíveis perguntas que poderiam suscitar novos experimentos:\n",
        "- o que acontece na interpretação dos coeficientes se uma das variáveis tem um range de valores muito maior? Por exemplo, multiplicar a variável c0 por 1000\n",
        "- sugiro testar diretamente a função de geração de regressão do sklearn, utilizando seus parâmetros de ruído (noise), n_informative, effective_rank (para simular correlações entre as variáveis), etc.\n",
        "- traga suas dúvidas e sugestões de experimentos...\n",
        "\n",
        "\n",
        "Já temos um caderno com experimentos computacionais para as propriedades de sobreajustamento (overfit) que será apresentado posteriormente.\n",
        "\n",
        "Mas o método de experimentação computacional é extremamente genérico e deveria fazer parte do ferramental básico de todo cientista de dados.\n",
        "\n",
        "Procuraremos desenvolver uma adaptação para árvores de decisão! Utilizando regras lógicas para construir o target!\n",
        "\n",
        "Outro benefício do uso mais sistemático de dados sintéticos é de contornar as restrições de uso de dados reais, por questões de sigilo ou privacidade. Desde que os dados sintéticos reflitam as mesmas propriedades estatísticas dos dados reais, eles podem substituir o real, serem livremente publicados e utilizados em modelagem. Em tese, deveriam gerar os mesmos resultados... A ser testado! ;-)\n",
        "\n",
        "\n",
        "Referências:\n",
        "- geradores de dados sintéticos do sklearn: https://scikit-learn.org/stable/datasets/sample_generators.html\n",
        "- geradores de dados sintéticos: https://towardsdatascience.com/synthetic-data-generation-a-must-have-skill-for-new-data-scientists-915896c0c1ae\n",
        "- dados sintéticos para preservar sigilo de dados originais: https://research.aimultiple.com/synthetic-data/"
      ]
    },
    {
      "cell_type": "code",
      "execution_count": 1,
      "metadata": {
        "id": "XmSbEst7Lpkm"
      },
      "outputs": [],
      "source": [
        "# construindo dados sintéticos (utilizando o gerador de dados do scikit-learn)\n",
        "# https://scikit-learn.org/stable/modules/generated/sklearn.datasets.make_regression.html\n",
        "\n",
        "from sklearn.datasets import make_regression\n",
        "import pandas as pd"
      ]
    },
    {
      "cell_type": "code",
      "execution_count": 2,
      "metadata": {
        "colab": {
          "base_uri": "https://localhost:8080/",
          "height": 423
        },
        "id": "ENG0D0d3PV_4",
        "outputId": "2a920519-3eb5-4ab2-ce09-46c5445842c7"
      },
      "outputs": [
        {
          "data": {
            "text/html": [
              "<div>\n",
              "<style scoped>\n",
              "    .dataframe tbody tr th:only-of-type {\n",
              "        vertical-align: middle;\n",
              "    }\n",
              "\n",
              "    .dataframe tbody tr th {\n",
              "        vertical-align: top;\n",
              "    }\n",
              "\n",
              "    .dataframe thead th {\n",
              "        text-align: right;\n",
              "    }\n",
              "</style>\n",
              "<table border=\"1\" class=\"dataframe\">\n",
              "  <thead>\n",
              "    <tr style=\"text-align: right;\">\n",
              "      <th></th>\n",
              "      <th>c0</th>\n",
              "      <th>c1</th>\n",
              "      <th>c2</th>\n",
              "      <th>c3</th>\n",
              "      <th>c4</th>\n",
              "    </tr>\n",
              "  </thead>\n",
              "  <tbody>\n",
              "    <tr>\n",
              "      <th>0</th>\n",
              "      <td>-0.937825</td>\n",
              "      <td>0.515048</td>\n",
              "      <td>0.515035</td>\n",
              "      <td>3.852731</td>\n",
              "      <td>0.513786</td>\n",
              "    </tr>\n",
              "    <tr>\n",
              "      <th>1</th>\n",
              "      <td>1.088951</td>\n",
              "      <td>-0.715304</td>\n",
              "      <td>0.064280</td>\n",
              "      <td>0.679598</td>\n",
              "      <td>-1.077745</td>\n",
              "    </tr>\n",
              "    <tr>\n",
              "      <th>2</th>\n",
              "      <td>-0.601707</td>\n",
              "      <td>-1.057711</td>\n",
              "      <td>1.852278</td>\n",
              "      <td>0.822545</td>\n",
              "      <td>-0.013497</td>\n",
              "    </tr>\n",
              "    <tr>\n",
              "      <th>3</th>\n",
              "      <td>0.821903</td>\n",
              "      <td>0.091761</td>\n",
              "      <td>0.087047</td>\n",
              "      <td>-1.987569</td>\n",
              "      <td>-0.299007</td>\n",
              "    </tr>\n",
              "    <tr>\n",
              "      <th>4</th>\n",
              "      <td>1.549934</td>\n",
              "      <td>0.813517</td>\n",
              "      <td>-0.783253</td>\n",
              "      <td>-1.230864</td>\n",
              "      <td>-0.322062</td>\n",
              "    </tr>\n",
              "    <tr>\n",
              "      <th>...</th>\n",
              "      <td>...</td>\n",
              "      <td>...</td>\n",
              "      <td>...</td>\n",
              "      <td>...</td>\n",
              "      <td>...</td>\n",
              "    </tr>\n",
              "    <tr>\n",
              "      <th>95</th>\n",
              "      <td>0.232050</td>\n",
              "      <td>-0.718444</td>\n",
              "      <td>-1.448084</td>\n",
              "      <td>-0.213447</td>\n",
              "      <td>-1.407464</td>\n",
              "    </tr>\n",
              "    <tr>\n",
              "      <th>96</th>\n",
              "      <td>-1.415371</td>\n",
              "      <td>-0.802277</td>\n",
              "      <td>-0.420645</td>\n",
              "      <td>-0.161286</td>\n",
              "      <td>-0.342715</td>\n",
              "    </tr>\n",
              "    <tr>\n",
              "      <th>97</th>\n",
              "      <td>0.404051</td>\n",
              "      <td>0.257550</td>\n",
              "      <td>1.886186</td>\n",
              "      <td>-0.074446</td>\n",
              "      <td>0.174578</td>\n",
              "    </tr>\n",
              "    <tr>\n",
              "      <th>98</th>\n",
              "      <td>-0.926930</td>\n",
              "      <td>-1.024388</td>\n",
              "      <td>-0.059525</td>\n",
              "      <td>-0.252568</td>\n",
              "      <td>-3.241267</td>\n",
              "    </tr>\n",
              "    <tr>\n",
              "      <th>99</th>\n",
              "      <td>-0.974682</td>\n",
              "      <td>-0.820682</td>\n",
              "      <td>0.787085</td>\n",
              "      <td>0.963376</td>\n",
              "      <td>1.158596</td>\n",
              "    </tr>\n",
              "  </tbody>\n",
              "</table>\n",
              "<p>100 rows × 5 columns</p>\n",
              "</div>"
            ],
            "text/plain": [
              "          c0        c1        c2        c3        c4\n",
              "0  -0.937825  0.515048  0.515035  3.852731  0.513786\n",
              "1   1.088951 -0.715304  0.064280  0.679598 -1.077745\n",
              "2  -0.601707 -1.057711  1.852278  0.822545 -0.013497\n",
              "3   0.821903  0.091761  0.087047 -1.987569 -0.299007\n",
              "4   1.549934  0.813517 -0.783253 -1.230864 -0.322062\n",
              "..       ...       ...       ...       ...       ...\n",
              "95  0.232050 -0.718444 -1.448084 -0.213447 -1.407464\n",
              "96 -1.415371 -0.802277 -0.420645 -0.161286 -0.342715\n",
              "97  0.404051  0.257550  1.886186 -0.074446  0.174578\n",
              "98 -0.926930 -1.024388 -0.059525 -0.252568 -3.241267\n",
              "99 -0.974682 -0.820682  0.787085  0.963376  1.158596\n",
              "\n",
              "[100 rows x 5 columns]"
            ]
          },
          "execution_count": 2,
          "metadata": {},
          "output_type": "execute_result"
        }
      ],
      "source": [
        "X, y = make_regression(n_samples=100, n_features=5, random_state=42)\n",
        "df = pd.DataFrame(X)\n",
        "df.columns = [f'c{i}' for i in df.columns]\n",
        "df"
      ]
    },
    {
      "cell_type": "code",
      "execution_count": 3,
      "metadata": {
        "id": "wh_eH72_QwZ4"
      },
      "outputs": [],
      "source": [
        "# Com target gerado por combinação linear de variáveis independentes:\n",
        "# Fiquem livres para testar qualquer combinação linear, alterando os pesos\n",
        "target = df['c0'] + 2*df['c1'] + 3*df['c2'] + 4*df['c3'] + 5*df['c4']\n",
        "\n",
        "# Remapeando as variáveis\n",
        "X = df\n",
        "y = target"
      ]
    },
    {
      "cell_type": "code",
      "execution_count": 4,
      "metadata": {
        "colab": {
          "base_uri": "https://localhost:8080/"
        },
        "id": "BGQf2EXwRj0z",
        "outputId": "ecabcad2-9702-4b7e-83c0-1f61226f9eff"
      },
      "outputs": [
        {
          "data": {
            "text/plain": [
              "LinearRegression()"
            ]
          },
          "execution_count": 4,
          "metadata": {},
          "output_type": "execute_result"
        }
      ],
      "source": [
        "# a. conseguimos recuperar exatamente os coeficientes da regressão idênticos aos pesos da combinação linear? Avaliar R2\n",
        "\n",
        "# importamos as funções necessárias da biblioteca scikit-learn:\n",
        "# modelo de regressão linear\n",
        "from sklearn.linear_model import LinearRegression\n",
        "\n",
        "# separação treino-teste\n",
        "from sklearn.model_selection import train_test_split\n",
        "\n",
        "X_train, X_test, y_train, y_test = train_test_split(X, y, test_size=0.20, random_state=42)\n",
        "\n",
        "# instanciando o modelo de regressão linear\n",
        "lr = LinearRegression()\n",
        "\n",
        "# treinando o modelo\n",
        "lr.fit(X_train, y_train)"
      ]
    },
    {
      "cell_type": "code",
      "execution_count": 5,
      "metadata": {
        "id": "X9aI05PYS_oj"
      },
      "outputs": [
        {
          "data": {
            "text/plain": [
              "1.0"
            ]
          },
          "execution_count": 5,
          "metadata": {},
          "output_type": "execute_result"
        }
      ],
      "source": [
        "# Qual o desempenho esperado e porque?\n",
        "# avaliando o desempenho\n",
        "lr.score(X_test, y_test)"
      ]
    },
    {
      "cell_type": "code",
      "execution_count": 6,
      "metadata": {
        "id": "L1L4IR9yTMIq"
      },
      "outputs": [
        {
          "data": {
            "text/html": [
              "<div>\n",
              "<style scoped>\n",
              "    .dataframe tbody tr th:only-of-type {\n",
              "        vertical-align: middle;\n",
              "    }\n",
              "\n",
              "    .dataframe tbody tr th {\n",
              "        vertical-align: top;\n",
              "    }\n",
              "\n",
              "    .dataframe thead th {\n",
              "        text-align: right;\n",
              "    }\n",
              "</style>\n",
              "<table border=\"1\" class=\"dataframe\">\n",
              "  <thead>\n",
              "    <tr style=\"text-align: right;\">\n",
              "      <th></th>\n",
              "      <th>Variável</th>\n",
              "      <th>Coeficientes</th>\n",
              "    </tr>\n",
              "  </thead>\n",
              "  <tbody>\n",
              "    <tr>\n",
              "      <th>0</th>\n",
              "      <td>c0</td>\n",
              "      <td>1.0</td>\n",
              "    </tr>\n",
              "    <tr>\n",
              "      <th>1</th>\n",
              "      <td>c1</td>\n",
              "      <td>2.0</td>\n",
              "    </tr>\n",
              "    <tr>\n",
              "      <th>2</th>\n",
              "      <td>c2</td>\n",
              "      <td>3.0</td>\n",
              "    </tr>\n",
              "    <tr>\n",
              "      <th>3</th>\n",
              "      <td>c3</td>\n",
              "      <td>4.0</td>\n",
              "    </tr>\n",
              "    <tr>\n",
              "      <th>4</th>\n",
              "      <td>c4</td>\n",
              "      <td>5.0</td>\n",
              "    </tr>\n",
              "  </tbody>\n",
              "</table>\n",
              "</div>"
            ],
            "text/plain": [
              "  Variável  Coeficientes\n",
              "0       c0           1.0\n",
              "1       c1           2.0\n",
              "2       c2           3.0\n",
              "3       c3           4.0\n",
              "4       c4           5.0"
            ]
          },
          "execution_count": 6,
          "metadata": {},
          "output_type": "execute_result"
        }
      ],
      "source": [
        "# Inspecionando o modelo\n",
        "\n",
        "# o que se espera que sejam os coeficientes?\n",
        "# Visualização dos coeficientes\n",
        "pesos = pd.DataFrame({'Variável': X.columns, 'Coeficientes': lr.coef_})\n",
        "pesos"
      ]
    },
    {
      "cell_type": "code",
      "execution_count": null,
      "metadata": {
        "id": "aaxTt55vUDsV"
      },
      "outputs": [],
      "source": [
        "# Quanto deveria ser o intercepto?\n",
        "lr.intercept_\n",
        "\n",
        "# O que modificar na construção do target para controlar o intercepto?"
      ]
    },
    {
      "cell_type": "code",
      "execution_count": null,
      "metadata": {
        "id": "jhg74QWdUYvM"
      },
      "outputs": [],
      "source": [
        "# Visando facilitar reuso para as próximas análises, \n",
        "# segue código de análise de resíduos\n",
        "import matplotlib.pyplot as plt\n",
        "\n",
        "y_pred = lr.predict(X_test)\n",
        "\n",
        "plt.figure(figsize=(15,4))\n",
        "plt.scatter(y_pred,y_test-y_pred)\n",
        "plt.title(\"Gráfico de resíduos\")\n",
        "plt.xlabel(\"Valor previsto\")\n",
        "plt.ylabel(\"Resíduos\")\n",
        "plt.show()"
      ]
    },
    {
      "cell_type": "code",
      "execution_count": null,
      "metadata": {
        "id": "90_82n2GXT4X"
      },
      "outputs": [],
      "source": [
        "plt.figure(figsize=(10,4))\n",
        "plt.hist(y_test-y_pred, bins= 11)\n",
        "plt.title(\"Histograma de resíduos\")\n",
        "plt.show()"
      ]
    },
    {
      "cell_type": "code",
      "execution_count": null,
      "metadata": {
        "id": "ycj7PB4-Xhyk"
      },
      "outputs": [],
      "source": [
        "## Gráfico QQ\n",
        "from statsmodels.graphics.gofplots import qqplot_2samples\n",
        "\n",
        "qqplot_2samples(y_test,y_pred,line='45')\n",
        "plt.title(\"Gráfico QQ\")\n",
        "plt.xlabel(\"Quantis de valores observados\")\n",
        "plt.ylabel(\"Quantis de valores previstos\")\n",
        "plt.show()"
      ]
    },
    {
      "cell_type": "markdown",
      "metadata": {
        "id": "zeNFnd-XUZFM"
      },
      "source": [
        "Sobre essa base, vamos agora construir as variantes sugeridas:\n",
        "- adicionando uma variável linearmente dependente das variáveis anteriores\n",
        "- com duas variáveis imperfeitamente correlacionadas (ruído na relação entre as variáveis)\n",
        "- adicionando ruído no target (cf. numpy.random.normal ou outra distribuição)\n",
        "- excluindo uma ou várias variáveis condicionantes do dataset para treinamento\n"
      ]
    },
    {
      "cell_type": "code",
      "execution_count": null,
      "metadata": {
        "colab": {
          "base_uri": "https://localhost:8080/",
          "height": 423
        },
        "id": "E6uYex47UkMC",
        "outputId": "41172399-9d45-4400-d22c-d7daf521312a"
      },
      "outputs": [
        {
          "data": {
            "text/html": [
              "<div>\n",
              "<style scoped>\n",
              "    .dataframe tbody tr th:only-of-type {\n",
              "        vertical-align: middle;\n",
              "    }\n",
              "\n",
              "    .dataframe tbody tr th {\n",
              "        vertical-align: top;\n",
              "    }\n",
              "\n",
              "    .dataframe thead th {\n",
              "        text-align: right;\n",
              "    }\n",
              "</style>\n",
              "<table border=\"1\" class=\"dataframe\">\n",
              "  <thead>\n",
              "    <tr style=\"text-align: right;\">\n",
              "      <th></th>\n",
              "      <th>c0</th>\n",
              "      <th>c1</th>\n",
              "      <th>c2</th>\n",
              "      <th>c3</th>\n",
              "      <th>c4</th>\n",
              "      <th>3df0_2df1</th>\n",
              "    </tr>\n",
              "  </thead>\n",
              "  <tbody>\n",
              "    <tr>\n",
              "      <th>0</th>\n",
              "      <td>-0.937825</td>\n",
              "      <td>0.515048</td>\n",
              "      <td>0.515035</td>\n",
              "      <td>3.852731</td>\n",
              "      <td>0.513786</td>\n",
              "      <td>-1.783380</td>\n",
              "    </tr>\n",
              "    <tr>\n",
              "      <th>1</th>\n",
              "      <td>1.088951</td>\n",
              "      <td>-0.715304</td>\n",
              "      <td>0.064280</td>\n",
              "      <td>0.679598</td>\n",
              "      <td>-1.077745</td>\n",
              "      <td>1.836244</td>\n",
              "    </tr>\n",
              "    <tr>\n",
              "      <th>2</th>\n",
              "      <td>-0.601707</td>\n",
              "      <td>-1.057711</td>\n",
              "      <td>1.852278</td>\n",
              "      <td>0.822545</td>\n",
              "      <td>-0.013497</td>\n",
              "      <td>-3.920542</td>\n",
              "    </tr>\n",
              "    <tr>\n",
              "      <th>3</th>\n",
              "      <td>0.821903</td>\n",
              "      <td>0.091761</td>\n",
              "      <td>0.087047</td>\n",
              "      <td>-1.987569</td>\n",
              "      <td>-0.299007</td>\n",
              "      <td>2.649229</td>\n",
              "    </tr>\n",
              "    <tr>\n",
              "      <th>4</th>\n",
              "      <td>1.549934</td>\n",
              "      <td>0.813517</td>\n",
              "      <td>-0.783253</td>\n",
              "      <td>-1.230864</td>\n",
              "      <td>-0.322062</td>\n",
              "      <td>6.276838</td>\n",
              "    </tr>\n",
              "    <tr>\n",
              "      <th>...</th>\n",
              "      <td>...</td>\n",
              "      <td>...</td>\n",
              "      <td>...</td>\n",
              "      <td>...</td>\n",
              "      <td>...</td>\n",
              "      <td>...</td>\n",
              "    </tr>\n",
              "    <tr>\n",
              "      <th>95</th>\n",
              "      <td>0.232050</td>\n",
              "      <td>-0.718444</td>\n",
              "      <td>-1.448084</td>\n",
              "      <td>-0.213447</td>\n",
              "      <td>-1.407464</td>\n",
              "      <td>-0.740739</td>\n",
              "    </tr>\n",
              "    <tr>\n",
              "      <th>96</th>\n",
              "      <td>-1.415371</td>\n",
              "      <td>-0.802277</td>\n",
              "      <td>-0.420645</td>\n",
              "      <td>-0.161286</td>\n",
              "      <td>-0.342715</td>\n",
              "      <td>-5.850667</td>\n",
              "    </tr>\n",
              "    <tr>\n",
              "      <th>97</th>\n",
              "      <td>0.404051</td>\n",
              "      <td>0.257550</td>\n",
              "      <td>1.886186</td>\n",
              "      <td>-0.074446</td>\n",
              "      <td>0.174578</td>\n",
              "      <td>1.727253</td>\n",
              "    </tr>\n",
              "    <tr>\n",
              "      <th>98</th>\n",
              "      <td>-0.926930</td>\n",
              "      <td>-1.024388</td>\n",
              "      <td>-0.059525</td>\n",
              "      <td>-0.252568</td>\n",
              "      <td>-3.241267</td>\n",
              "      <td>-4.829567</td>\n",
              "    </tr>\n",
              "    <tr>\n",
              "      <th>99</th>\n",
              "      <td>-0.974682</td>\n",
              "      <td>-0.820682</td>\n",
              "      <td>0.787085</td>\n",
              "      <td>0.963376</td>\n",
              "      <td>1.158596</td>\n",
              "      <td>-4.565410</td>\n",
              "    </tr>\n",
              "  </tbody>\n",
              "</table>\n",
              "<p>100 rows × 6 columns</p>\n",
              "</div>"
            ],
            "text/plain": [
              "          c0        c1        c2        c3        c4  3df0_2df1\n",
              "0  -0.937825  0.515048  0.515035  3.852731  0.513786  -1.783380\n",
              "1   1.088951 -0.715304  0.064280  0.679598 -1.077745   1.836244\n",
              "2  -0.601707 -1.057711  1.852278  0.822545 -0.013497  -3.920542\n",
              "3   0.821903  0.091761  0.087047 -1.987569 -0.299007   2.649229\n",
              "4   1.549934  0.813517 -0.783253 -1.230864 -0.322062   6.276838\n",
              "..       ...       ...       ...       ...       ...        ...\n",
              "95  0.232050 -0.718444 -1.448084 -0.213447 -1.407464  -0.740739\n",
              "96 -1.415371 -0.802277 -0.420645 -0.161286 -0.342715  -5.850667\n",
              "97  0.404051  0.257550  1.886186 -0.074446  0.174578   1.727253\n",
              "98 -0.926930 -1.024388 -0.059525 -0.252568 -3.241267  -4.829567\n",
              "99 -0.974682 -0.820682  0.787085  0.963376  1.158596  -4.565410\n",
              "\n",
              "[100 rows x 6 columns]"
            ]
          },
          "execution_count": 37,
          "metadata": {},
          "output_type": "execute_result"
        }
      ],
      "source": [
        "# adicionando uma variável linearmente dependente das variáveis anteriores\n",
        "df['3df0_2df1'] = 3*df.c0 + 2*df.c1\n",
        "df"
      ]
    },
    {
      "cell_type": "code",
      "execution_count": null,
      "metadata": {
        "id": "ZirBgTnmU7fP"
      },
      "outputs": [],
      "source": [
        "# Agora, continue a análise como fizemos na aula anterior para esse caso de nova variável linearmente dependente"
      ]
    }
  ],
  "metadata": {
    "colab": {
      "name": "Experimentos computacionais para induzir propriedades da regressão linear.ipynb",
      "provenance": []
    },
    "kernelspec": {
      "display_name": "Python 3",
      "name": "python3"
    },
    "language_info": {
      "codemirror_mode": {
        "name": "ipython",
        "version": 3
      },
      "file_extension": ".py",
      "mimetype": "text/x-python",
      "name": "python",
      "nbconvert_exporter": "python",
      "pygments_lexer": "ipython3",
      "version": "3.9.1"
    }
  },
  "nbformat": 4,
  "nbformat_minor": 0
}

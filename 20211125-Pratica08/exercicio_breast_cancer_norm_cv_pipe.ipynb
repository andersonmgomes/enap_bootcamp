{
  "nbformat": 4,
  "nbformat_minor": 0,
  "metadata": {
    "colab": {
      "name": "exercicio_breast_cancer_norm_cv_pipe.ipynb",
      "provenance": [],
      "collapsed_sections": []
    },
    "kernelspec": {
      "name": "python3",
      "display_name": "Python 3"
    },
    "language_info": {
      "name": "python"
    }
  },
  "cells": [
    {
      "cell_type": "markdown",
      "metadata": {
        "id": "GBJGN8UStBUW"
      },
      "source": [
        "---\n",
        "# Exercício Breast Cancer - scaler, cross-validation, pipeline  \n",
        "---\n",
        "**Machine Learning em Projetos (Erick Muzart e Fernando melo)**   \n",
        "Tópicos:\n",
        "- normalização (StandardScaler)\n",
        "- cross-validation\n",
        "- pipeline\n",
        "\n",
        "\n",
        "\n"
      ]
    },
    {
      "cell_type": "markdown",
      "metadata": {
        "id": "3AlRiG7EoRTu"
      },
      "source": [
        "#### **Descrição do projeto de machine learning**\n",
        "Antes de escrever qualquer código, precisamos entender o problema que queremos resolver e fazer uma descrição eficiente do projeto, visando a comunicação  simples e rápida do objetivo do projeto para técnicos, gestores e colaboradores.  \n",
        "  \n",
        "**1- Descrição do problema ou tarefa:**  \n",
        "Prever se o câncer de mama é maligno ou benigno com base nas características da imagem digitalizada de um aspirado por agulha fina (FNA) de uma massa mamária.   \n",
        "**2- Descrição da solução de IA:**  \n",
        "Treinamento supervisionado de modelo de classificação de câncer de mama em 2 classes (benigno/maligno) com base nas características dos núcleos celulares presentes na imagem.   \n",
        "**3- Fonte de dados:**  \n",
        "Os dados foram obtidos a partir de uma imagem digitalizada de um aspirado por agulha fina (FNA) de uma massa mamária. Eles descrevem as características dos núcleos celulares presentes na imagem.   \n",
        "Fonte dados: https://scikit-learn.org/stable/modules/generated/sklearn.datasets.load_breast_cancer.html   \n",
        "**4- Variáveis independentes (preditoras ou \"features\"):**  \n",
        "'mean radius', 'mean texture', 'mean perimeter', 'mean area',\n",
        "       'mean smoothness', 'mean compactness', 'mean concavity',\n",
        "       'mean concave points', 'mean symmetry', 'mean fractal dimension',\n",
        "       'radius error', 'texture error', 'perimeter error', 'area error',\n",
        "       'smoothness error', 'compactness error', 'concavity error',\n",
        "       'concave points error', 'symmetry error',\n",
        "       'fractal dimension error', 'worst radius', 'worst texture',\n",
        "       'worst perimeter', 'worst area', 'worst smoothness',\n",
        "       'worst compactness', 'worst concavity', 'worst concave points',\n",
        "       'worst symmetry', 'worst fractal dimension'     \n",
        "**5- Variável dependente (resposta ou \"target\"):**  \n",
        "Tipo de câncer benigno ou maligno"
      ]
    },
    {
      "cell_type": "markdown",
      "metadata": {
        "id": "5fg4HvEjMqSa"
      },
      "source": [
        "## Carregar bibliotecas"
      ]
    },
    {
      "cell_type": "code",
      "metadata": {
        "id": "5NirYVDyswYv"
      },
      "source": [
        "# Importar bibliotecas pandas, ConfusionMatrixDisplay, train_test_split, matplotlib, seaborn, metrics\n",
        "import pandas as pd\n",
        "from sklearn.metrics import ConfusionMatrixDisplay\n",
        "from sklearn.model_selection import train_test_split\n",
        "import matplotlib.pyplot as plt \n",
        "from sklearn import metrics\n",
        "import seaborn as sns"
      ],
      "execution_count": null,
      "outputs": []
    },
    {
      "cell_type": "markdown",
      "metadata": {
        "id": "nwTweJlpTY7i"
      },
      "source": [
        "## Análise exploratória dos dados"
      ]
    },
    {
      "cell_type": "code",
      "metadata": {
        "id": "TPi9MudCxt4I"
      },
      "source": [
        "# Importar  e instanciar Sklearn dataset load_breast_cancer\n"
      ],
      "execution_count": null,
      "outputs": []
    },
    {
      "cell_type": "code",
      "metadata": {
        "colab": {
          "base_uri": "https://localhost:8080/",
          "height": 278
        },
        "id": "hnEjAR7mxt4Q",
        "outputId": "eeeaca4c-8ef8-400d-9285-a7a3c7ce36df"
      },
      "source": [
        "# Converter sklearn dataset em pandas dataframe\n",
        "\n",
        "# Cria nova coluna target\n",
        "\n",
        "# Mostra as dimensões do dataset e as primeiras linhas\n"
      ],
      "execution_count": null,
      "outputs": [
        {
          "output_type": "stream",
          "name": "stdout",
          "text": [
            "Dimensões do dataset:  (569, 31)\n"
          ]
        },
        {
          "output_type": "execute_result",
          "data": {
            "text/html": [
              "<div>\n",
              "<style scoped>\n",
              "    .dataframe tbody tr th:only-of-type {\n",
              "        vertical-align: middle;\n",
              "    }\n",
              "\n",
              "    .dataframe tbody tr th {\n",
              "        vertical-align: top;\n",
              "    }\n",
              "\n",
              "    .dataframe thead th {\n",
              "        text-align: right;\n",
              "    }\n",
              "</style>\n",
              "<table border=\"1\" class=\"dataframe\">\n",
              "  <thead>\n",
              "    <tr style=\"text-align: right;\">\n",
              "      <th></th>\n",
              "      <th>mean radius</th>\n",
              "      <th>mean texture</th>\n",
              "      <th>mean perimeter</th>\n",
              "      <th>mean area</th>\n",
              "      <th>mean smoothness</th>\n",
              "      <th>mean compactness</th>\n",
              "      <th>mean concavity</th>\n",
              "      <th>mean concave points</th>\n",
              "      <th>mean symmetry</th>\n",
              "      <th>mean fractal dimension</th>\n",
              "      <th>radius error</th>\n",
              "      <th>texture error</th>\n",
              "      <th>perimeter error</th>\n",
              "      <th>area error</th>\n",
              "      <th>smoothness error</th>\n",
              "      <th>compactness error</th>\n",
              "      <th>concavity error</th>\n",
              "      <th>concave points error</th>\n",
              "      <th>symmetry error</th>\n",
              "      <th>fractal dimension error</th>\n",
              "      <th>worst radius</th>\n",
              "      <th>worst texture</th>\n",
              "      <th>worst perimeter</th>\n",
              "      <th>worst area</th>\n",
              "      <th>worst smoothness</th>\n",
              "      <th>worst compactness</th>\n",
              "      <th>worst concavity</th>\n",
              "      <th>worst concave points</th>\n",
              "      <th>worst symmetry</th>\n",
              "      <th>worst fractal dimension</th>\n",
              "      <th>target</th>\n",
              "    </tr>\n",
              "  </thead>\n",
              "  <tbody>\n",
              "    <tr>\n",
              "      <th>0</th>\n",
              "      <td>17.99</td>\n",
              "      <td>10.38</td>\n",
              "      <td>122.80</td>\n",
              "      <td>1001.0</td>\n",
              "      <td>0.11840</td>\n",
              "      <td>0.27760</td>\n",
              "      <td>0.3001</td>\n",
              "      <td>0.14710</td>\n",
              "      <td>0.2419</td>\n",
              "      <td>0.07871</td>\n",
              "      <td>1.0950</td>\n",
              "      <td>0.9053</td>\n",
              "      <td>8.589</td>\n",
              "      <td>153.40</td>\n",
              "      <td>0.006399</td>\n",
              "      <td>0.04904</td>\n",
              "      <td>0.05373</td>\n",
              "      <td>0.01587</td>\n",
              "      <td>0.03003</td>\n",
              "      <td>0.006193</td>\n",
              "      <td>25.38</td>\n",
              "      <td>17.33</td>\n",
              "      <td>184.60</td>\n",
              "      <td>2019.0</td>\n",
              "      <td>0.1622</td>\n",
              "      <td>0.6656</td>\n",
              "      <td>0.7119</td>\n",
              "      <td>0.2654</td>\n",
              "      <td>0.4601</td>\n",
              "      <td>0.11890</td>\n",
              "      <td>0</td>\n",
              "    </tr>\n",
              "    <tr>\n",
              "      <th>1</th>\n",
              "      <td>20.57</td>\n",
              "      <td>17.77</td>\n",
              "      <td>132.90</td>\n",
              "      <td>1326.0</td>\n",
              "      <td>0.08474</td>\n",
              "      <td>0.07864</td>\n",
              "      <td>0.0869</td>\n",
              "      <td>0.07017</td>\n",
              "      <td>0.1812</td>\n",
              "      <td>0.05667</td>\n",
              "      <td>0.5435</td>\n",
              "      <td>0.7339</td>\n",
              "      <td>3.398</td>\n",
              "      <td>74.08</td>\n",
              "      <td>0.005225</td>\n",
              "      <td>0.01308</td>\n",
              "      <td>0.01860</td>\n",
              "      <td>0.01340</td>\n",
              "      <td>0.01389</td>\n",
              "      <td>0.003532</td>\n",
              "      <td>24.99</td>\n",
              "      <td>23.41</td>\n",
              "      <td>158.80</td>\n",
              "      <td>1956.0</td>\n",
              "      <td>0.1238</td>\n",
              "      <td>0.1866</td>\n",
              "      <td>0.2416</td>\n",
              "      <td>0.1860</td>\n",
              "      <td>0.2750</td>\n",
              "      <td>0.08902</td>\n",
              "      <td>0</td>\n",
              "    </tr>\n",
              "    <tr>\n",
              "      <th>2</th>\n",
              "      <td>19.69</td>\n",
              "      <td>21.25</td>\n",
              "      <td>130.00</td>\n",
              "      <td>1203.0</td>\n",
              "      <td>0.10960</td>\n",
              "      <td>0.15990</td>\n",
              "      <td>0.1974</td>\n",
              "      <td>0.12790</td>\n",
              "      <td>0.2069</td>\n",
              "      <td>0.05999</td>\n",
              "      <td>0.7456</td>\n",
              "      <td>0.7869</td>\n",
              "      <td>4.585</td>\n",
              "      <td>94.03</td>\n",
              "      <td>0.006150</td>\n",
              "      <td>0.04006</td>\n",
              "      <td>0.03832</td>\n",
              "      <td>0.02058</td>\n",
              "      <td>0.02250</td>\n",
              "      <td>0.004571</td>\n",
              "      <td>23.57</td>\n",
              "      <td>25.53</td>\n",
              "      <td>152.50</td>\n",
              "      <td>1709.0</td>\n",
              "      <td>0.1444</td>\n",
              "      <td>0.4245</td>\n",
              "      <td>0.4504</td>\n",
              "      <td>0.2430</td>\n",
              "      <td>0.3613</td>\n",
              "      <td>0.08758</td>\n",
              "      <td>0</td>\n",
              "    </tr>\n",
              "    <tr>\n",
              "      <th>3</th>\n",
              "      <td>11.42</td>\n",
              "      <td>20.38</td>\n",
              "      <td>77.58</td>\n",
              "      <td>386.1</td>\n",
              "      <td>0.14250</td>\n",
              "      <td>0.28390</td>\n",
              "      <td>0.2414</td>\n",
              "      <td>0.10520</td>\n",
              "      <td>0.2597</td>\n",
              "      <td>0.09744</td>\n",
              "      <td>0.4956</td>\n",
              "      <td>1.1560</td>\n",
              "      <td>3.445</td>\n",
              "      <td>27.23</td>\n",
              "      <td>0.009110</td>\n",
              "      <td>0.07458</td>\n",
              "      <td>0.05661</td>\n",
              "      <td>0.01867</td>\n",
              "      <td>0.05963</td>\n",
              "      <td>0.009208</td>\n",
              "      <td>14.91</td>\n",
              "      <td>26.50</td>\n",
              "      <td>98.87</td>\n",
              "      <td>567.7</td>\n",
              "      <td>0.2098</td>\n",
              "      <td>0.8663</td>\n",
              "      <td>0.6869</td>\n",
              "      <td>0.2575</td>\n",
              "      <td>0.6638</td>\n",
              "      <td>0.17300</td>\n",
              "      <td>0</td>\n",
              "    </tr>\n",
              "    <tr>\n",
              "      <th>4</th>\n",
              "      <td>20.29</td>\n",
              "      <td>14.34</td>\n",
              "      <td>135.10</td>\n",
              "      <td>1297.0</td>\n",
              "      <td>0.10030</td>\n",
              "      <td>0.13280</td>\n",
              "      <td>0.1980</td>\n",
              "      <td>0.10430</td>\n",
              "      <td>0.1809</td>\n",
              "      <td>0.05883</td>\n",
              "      <td>0.7572</td>\n",
              "      <td>0.7813</td>\n",
              "      <td>5.438</td>\n",
              "      <td>94.44</td>\n",
              "      <td>0.011490</td>\n",
              "      <td>0.02461</td>\n",
              "      <td>0.05688</td>\n",
              "      <td>0.01885</td>\n",
              "      <td>0.01756</td>\n",
              "      <td>0.005115</td>\n",
              "      <td>22.54</td>\n",
              "      <td>16.67</td>\n",
              "      <td>152.20</td>\n",
              "      <td>1575.0</td>\n",
              "      <td>0.1374</td>\n",
              "      <td>0.2050</td>\n",
              "      <td>0.4000</td>\n",
              "      <td>0.1625</td>\n",
              "      <td>0.2364</td>\n",
              "      <td>0.07678</td>\n",
              "      <td>0</td>\n",
              "    </tr>\n",
              "  </tbody>\n",
              "</table>\n",
              "</div>"
            ],
            "text/plain": [
              "   mean radius  mean texture  ...  worst fractal dimension  target\n",
              "0        17.99         10.38  ...                  0.11890       0\n",
              "1        20.57         17.77  ...                  0.08902       0\n",
              "2        19.69         21.25  ...                  0.08758       0\n",
              "3        11.42         20.38  ...                  0.17300       0\n",
              "4        20.29         14.34  ...                  0.07678       0\n",
              "\n",
              "[5 rows x 31 columns]"
            ]
          },
          "metadata": {},
          "execution_count": 3
        }
      ]
    },
    {
      "cell_type": "code",
      "metadata": {
        "colab": {
          "base_uri": "https://localhost:8080/"
        },
        "id": "rNaQIhpLD3op",
        "outputId": "df4ab14a-f230-4752-ba51-625123f4f833"
      },
      "source": [
        "# Verificar o total de amostras por classe da variável target (.value_counts)\n"
      ],
      "execution_count": null,
      "outputs": [
        {
          "output_type": "execute_result",
          "data": {
            "text/plain": [
              "1    357\n",
              "0    212\n",
              "Name: target, dtype: int64"
            ]
          },
          "metadata": {},
          "execution_count": 42
        }
      ]
    },
    {
      "cell_type": "markdown",
      "metadata": {
        "id": "zvMo3Sa48py9"
      },
      "source": [
        "### Normalização (Standard Scaler)"
      ]
    },
    {
      "cell_type": "code",
      "metadata": {
        "id": "WBSFx7gL6bpa"
      },
      "source": [
        "# Atribuir variáveis independentes para X\n",
        "\n",
        "# Atribuir variável dependente para y\n",
        "\n",
        "# Dividir dados em treino e teste (80/20) com stratify, pois as classes estão desbalanceadas\n"
      ],
      "execution_count": null,
      "outputs": []
    },
    {
      "cell_type": "code",
      "metadata": {
        "id": "zhZNgaYh0gwu",
        "colab": {
          "base_uri": "https://localhost:8080/"
        },
        "outputId": "2fa3b819-5a46-4cf9-c4a5-7a664a954831"
      },
      "source": [
        "# Importa a biblioteca StandardScaler\n",
        "\n",
        "# Instancia objeto StandardScaler\n",
        "\n",
        "# Ajusta o scaler aos dados de treino\n"
      ],
      "execution_count": null,
      "outputs": [
        {
          "output_type": "execute_result",
          "data": {
            "text/plain": [
              "StandardScaler()"
            ]
          },
          "metadata": {},
          "execution_count": 6
        }
      ]
    },
    {
      "cell_type": "code",
      "metadata": {
        "colab": {
          "base_uri": "https://localhost:8080/",
          "height": 261
        },
        "id": "xMupd3IjJiAl",
        "outputId": "919c7160-463e-47a2-f528-39ea972df839"
      },
      "source": [
        "# Cria um dataframe com os dados de treino transformados pelo scaler apenas para visualização da transformação\n"
      ],
      "execution_count": null,
      "outputs": [
        {
          "output_type": "execute_result",
          "data": {
            "text/html": [
              "<div>\n",
              "<style scoped>\n",
              "    .dataframe tbody tr th:only-of-type {\n",
              "        vertical-align: middle;\n",
              "    }\n",
              "\n",
              "    .dataframe tbody tr th {\n",
              "        vertical-align: top;\n",
              "    }\n",
              "\n",
              "    .dataframe thead th {\n",
              "        text-align: right;\n",
              "    }\n",
              "</style>\n",
              "<table border=\"1\" class=\"dataframe\">\n",
              "  <thead>\n",
              "    <tr style=\"text-align: right;\">\n",
              "      <th></th>\n",
              "      <th>mean radius</th>\n",
              "      <th>mean texture</th>\n",
              "      <th>mean perimeter</th>\n",
              "      <th>mean area</th>\n",
              "      <th>mean smoothness</th>\n",
              "      <th>mean compactness</th>\n",
              "      <th>mean concavity</th>\n",
              "      <th>mean concave points</th>\n",
              "      <th>mean symmetry</th>\n",
              "      <th>mean fractal dimension</th>\n",
              "      <th>radius error</th>\n",
              "      <th>texture error</th>\n",
              "      <th>perimeter error</th>\n",
              "      <th>area error</th>\n",
              "      <th>smoothness error</th>\n",
              "      <th>compactness error</th>\n",
              "      <th>concavity error</th>\n",
              "      <th>concave points error</th>\n",
              "      <th>symmetry error</th>\n",
              "      <th>fractal dimension error</th>\n",
              "      <th>worst radius</th>\n",
              "      <th>worst texture</th>\n",
              "      <th>worst perimeter</th>\n",
              "      <th>worst area</th>\n",
              "      <th>worst smoothness</th>\n",
              "      <th>worst compactness</th>\n",
              "      <th>worst concavity</th>\n",
              "      <th>worst concave points</th>\n",
              "      <th>worst symmetry</th>\n",
              "      <th>worst fractal dimension</th>\n",
              "    </tr>\n",
              "  </thead>\n",
              "  <tbody>\n",
              "    <tr>\n",
              "      <th>0</th>\n",
              "      <td>-1.072001</td>\n",
              "      <td>-0.658425</td>\n",
              "      <td>-1.088080</td>\n",
              "      <td>-0.939274</td>\n",
              "      <td>-0.135940</td>\n",
              "      <td>-1.008718</td>\n",
              "      <td>-0.968359</td>\n",
              "      <td>-1.102032</td>\n",
              "      <td>0.281062</td>\n",
              "      <td>-0.113231</td>\n",
              "      <td>-0.704861</td>\n",
              "      <td>-0.440938</td>\n",
              "      <td>-0.743949</td>\n",
              "      <td>-0.629805</td>\n",
              "      <td>0.000748</td>\n",
              "      <td>-0.991573</td>\n",
              "      <td>-0.693760</td>\n",
              "      <td>-0.983284</td>\n",
              "      <td>-0.591579</td>\n",
              "      <td>-0.428972</td>\n",
              "      <td>-1.034094</td>\n",
              "      <td>-0.623497</td>\n",
              "      <td>-1.070773</td>\n",
              "      <td>-0.876534</td>\n",
              "      <td>-0.169982</td>\n",
              "      <td>-1.038836</td>\n",
              "      <td>-1.078995</td>\n",
              "      <td>-1.350527</td>\n",
              "      <td>-0.352658</td>\n",
              "      <td>-0.541380</td>\n",
              "    </tr>\n",
              "    <tr>\n",
              "      <th>1</th>\n",
              "      <td>1.748743</td>\n",
              "      <td>0.066502</td>\n",
              "      <td>1.751157</td>\n",
              "      <td>1.745559</td>\n",
              "      <td>1.274468</td>\n",
              "      <td>0.842288</td>\n",
              "      <td>1.519852</td>\n",
              "      <td>1.994664</td>\n",
              "      <td>-0.293045</td>\n",
              "      <td>-0.320180</td>\n",
              "      <td>0.127567</td>\n",
              "      <td>-0.381383</td>\n",
              "      <td>0.094075</td>\n",
              "      <td>0.317524</td>\n",
              "      <td>0.639656</td>\n",
              "      <td>0.087389</td>\n",
              "      <td>0.708451</td>\n",
              "      <td>1.182150</td>\n",
              "      <td>0.426212</td>\n",
              "      <td>0.074797</td>\n",
              "      <td>1.228342</td>\n",
              "      <td>-0.092833</td>\n",
              "      <td>1.187467</td>\n",
              "      <td>1.104386</td>\n",
              "      <td>1.517001</td>\n",
              "      <td>0.249655</td>\n",
              "      <td>1.178594</td>\n",
              "      <td>1.549916</td>\n",
              "      <td>0.191078</td>\n",
              "      <td>-0.173739</td>\n",
              "    </tr>\n",
              "    <tr>\n",
              "      <th>2</th>\n",
              "      <td>-0.974734</td>\n",
              "      <td>-0.931124</td>\n",
              "      <td>-0.997709</td>\n",
              "      <td>-0.867589</td>\n",
              "      <td>-0.613515</td>\n",
              "      <td>-1.138154</td>\n",
              "      <td>-1.092292</td>\n",
              "      <td>-1.243358</td>\n",
              "      <td>0.434395</td>\n",
              "      <td>-0.429247</td>\n",
              "      <td>-0.254445</td>\n",
              "      <td>1.237130</td>\n",
              "      <td>-0.338634</td>\n",
              "      <td>-0.413827</td>\n",
              "      <td>0.520240</td>\n",
              "      <td>-0.833114</td>\n",
              "      <td>-1.006736</td>\n",
              "      <td>-1.857894</td>\n",
              "      <td>1.356046</td>\n",
              "      <td>-1.006560</td>\n",
              "      <td>-0.973231</td>\n",
              "      <td>-1.036772</td>\n",
              "      <td>-1.008044</td>\n",
              "      <td>-0.834168</td>\n",
              "      <td>-1.097823</td>\n",
              "      <td>-1.167260</td>\n",
              "      <td>-1.282241</td>\n",
              "      <td>-1.707442</td>\n",
              "      <td>-0.307734</td>\n",
              "      <td>-1.213033</td>\n",
              "    </tr>\n",
              "    <tr>\n",
              "      <th>3</th>\n",
              "      <td>-0.145103</td>\n",
              "      <td>-1.215186</td>\n",
              "      <td>-0.123013</td>\n",
              "      <td>-0.253192</td>\n",
              "      <td>0.664482</td>\n",
              "      <td>0.286762</td>\n",
              "      <td>-0.129729</td>\n",
              "      <td>-0.098605</td>\n",
              "      <td>0.555635</td>\n",
              "      <td>0.029395</td>\n",
              "      <td>-0.531049</td>\n",
              "      <td>-1.262281</td>\n",
              "      <td>-0.411682</td>\n",
              "      <td>-0.436600</td>\n",
              "      <td>-0.393580</td>\n",
              "      <td>-0.129997</td>\n",
              "      <td>-0.219965</td>\n",
              "      <td>-0.527278</td>\n",
              "      <td>-0.269450</td>\n",
              "      <td>-0.316623</td>\n",
              "      <td>-0.251266</td>\n",
              "      <td>-1.369643</td>\n",
              "      <td>-0.166633</td>\n",
              "      <td>-0.330292</td>\n",
              "      <td>0.234006</td>\n",
              "      <td>0.096874</td>\n",
              "      <td>-0.087521</td>\n",
              "      <td>-0.344838</td>\n",
              "      <td>0.242198</td>\n",
              "      <td>-0.118266</td>\n",
              "    </tr>\n",
              "    <tr>\n",
              "      <th>4</th>\n",
              "      <td>-0.771617</td>\n",
              "      <td>-0.081211</td>\n",
              "      <td>-0.803700</td>\n",
              "      <td>-0.732927</td>\n",
              "      <td>-0.672282</td>\n",
              "      <td>-1.006099</td>\n",
              "      <td>-0.798502</td>\n",
              "      <td>-0.684484</td>\n",
              "      <td>0.737495</td>\n",
              "      <td>-0.457213</td>\n",
              "      <td>-0.498529</td>\n",
              "      <td>1.322961</td>\n",
              "      <td>-0.440597</td>\n",
              "      <td>-0.521457</td>\n",
              "      <td>-0.174225</td>\n",
              "      <td>-0.628196</td>\n",
              "      <td>-0.581187</td>\n",
              "      <td>-0.278344</td>\n",
              "      <td>1.528534</td>\n",
              "      <td>-0.313022</td>\n",
              "      <td>-0.801135</td>\n",
              "      <td>0.079230</td>\n",
              "      <td>-0.824381</td>\n",
              "      <td>-0.741830</td>\n",
              "      <td>-0.911367</td>\n",
              "      <td>-0.984612</td>\n",
              "      <td>-0.933190</td>\n",
              "      <td>-0.777604</td>\n",
              "      <td>0.555118</td>\n",
              "      <td>-0.761639</td>\n",
              "    </tr>\n",
              "  </tbody>\n",
              "</table>\n",
              "</div>"
            ],
            "text/plain": [
              "   mean radius  mean texture  ...  worst symmetry  worst fractal dimension\n",
              "0    -1.072001     -0.658425  ...       -0.352658                -0.541380\n",
              "1     1.748743      0.066502  ...        0.191078                -0.173739\n",
              "2    -0.974734     -0.931124  ...       -0.307734                -1.213033\n",
              "3    -0.145103     -1.215186  ...        0.242198                -0.118266\n",
              "4    -0.771617     -0.081211  ...        0.555118                -0.761639\n",
              "\n",
              "[5 rows x 30 columns]"
            ]
          },
          "metadata": {},
          "execution_count": 7
        }
      ]
    },
    {
      "cell_type": "markdown",
      "metadata": {
        "id": "LIl2sovi8-ui"
      },
      "source": [
        "Treina modelo com dados normalizados"
      ]
    },
    {
      "cell_type": "code",
      "metadata": {
        "colab": {
          "base_uri": "https://localhost:8080/"
        },
        "id": "ERlOtykFxLT_",
        "outputId": "b11a75e4-c9cc-4575-a211-7cdf39e54c97"
      },
      "source": [
        "# instancia modelo de regressão linear\n",
        "\n",
        "# Instancia objeto StandarScaler\n",
        "\n",
        "# Ajusta o scaler aos dados de treino\n",
        "\n",
        "# treina o modelo (aprende os coeficientes)\n"
      ],
      "execution_count": null,
      "outputs": [
        {
          "output_type": "execute_result",
          "data": {
            "text/plain": [
              "LogisticRegression()"
            ]
          },
          "metadata": {},
          "execution_count": 9
        }
      ]
    },
    {
      "cell_type": "code",
      "metadata": {
        "id": "DQqy4bwf2_0p",
        "colab": {
          "base_uri": "https://localhost:8080/"
        },
        "outputId": "ef5987ef-e961-4bd8-8104-7a8e242fa236"
      },
      "source": [
        "# Verificar a acurácia do modelo (.score)\n"
      ],
      "execution_count": null,
      "outputs": [
        {
          "output_type": "execute_result",
          "data": {
            "text/plain": [
              "0.9824561403508771"
            ]
          },
          "metadata": {},
          "execution_count": 10
        }
      ]
    },
    {
      "cell_type": "code",
      "metadata": {
        "scrolled": true,
        "id": "F2jfXACWZ9jg",
        "colab": {
          "base_uri": "https://localhost:8080/"
        },
        "outputId": "b8eea499-b54a-4e89-f4a5-3551f6782859"
      },
      "source": [
        "# Verificar o f1_score do modelo, quando as classes estão desbalenceadas\n"
      ],
      "execution_count": null,
      "outputs": [
        {
          "output_type": "execute_result",
          "data": {
            "text/plain": [
              "0.9824561403508771"
            ]
          },
          "metadata": {},
          "execution_count": 11
        }
      ]
    },
    {
      "cell_type": "markdown",
      "metadata": {
        "id": "qERqIAKQEjVj"
      },
      "source": [
        "## Pipeline com StandardScaler e cross-validation"
      ]
    },
    {
      "cell_type": "code",
      "metadata": {
        "id": "YX4SYz0Y1XFJ"
      },
      "source": [
        "# Importar make_pipeline, StandardScaler, LogisticRegression, cross_val_score\n"
      ],
      "execution_count": null,
      "outputs": []
    },
    {
      "cell_type": "code",
      "metadata": {
        "id": "f6TClBwhEjVl"
      },
      "source": [
        "# Atribuir variáveis independentes para X\n",
        "\n",
        "# Atribuir variável dependente para y\n"
      ],
      "execution_count": null,
      "outputs": []
    },
    {
      "cell_type": "code",
      "metadata": {
        "colab": {
          "base_uri": "https://localhost:8080/"
        },
        "id": "_Az5mGZ-3Zjm",
        "outputId": "e1a1f3fb-e6fc-40bf-97b3-787c7abae7b3"
      },
      "source": [
        "# Criar pipeline com os passos StandardScaler() e LogisticRegression(), usando make_pipeline.\n"
      ],
      "execution_count": null,
      "outputs": [
        {
          "output_type": "execute_result",
          "data": {
            "text/plain": [
              "Pipeline(steps=[('standardscaler', StandardScaler()),\n",
              "                ('logisticregression', LogisticRegression())])"
            ]
          },
          "metadata": {},
          "execution_count": 35
        }
      ]
    },
    {
      "cell_type": "code",
      "metadata": {
        "id": "4pdKHPQh26ae",
        "colab": {
          "base_uri": "https://localhost:8080/"
        },
        "outputId": "0aa364f2-1f97-4528-9edb-cf15562adc65"
      },
      "source": [
        "# Fazer cross validation 10 folds do pipeline e tire a média dos scores\n"
      ],
      "execution_count": null,
      "outputs": [
        {
          "output_type": "execute_result",
          "data": {
            "text/plain": [
              "0.9806704260651629"
            ]
          },
          "metadata": {},
          "execution_count": 16
        }
      ]
    },
    {
      "cell_type": "code",
      "metadata": {
        "colab": {
          "base_uri": "https://localhost:8080/"
        },
        "id": "97z3d6-B4-OP",
        "outputId": "7fd15751-b8ca-4a0c-ced9-d8ee6d37ce0e"
      },
      "source": [
        "# O pipeline pode ser treinado e usado como qualquer outro modelo\n",
        "# e evita vazamento de dados (data leakage) de teste para os dados de treino.\n",
        "\n",
        "# Dividir dados em treino e teste (80/20) com stratify, pois as classes estão desbalanceadas\n",
        "\n",
        "# treinar o pipeline com .fit\n",
        "\n",
        "# verificar o score do pipeline com .score\n"
      ],
      "execution_count": null,
      "outputs": [
        {
          "output_type": "execute_result",
          "data": {
            "text/plain": [
              "0.9824561403508771"
            ]
          },
          "metadata": {},
          "execution_count": 43
        }
      ]
    },
    {
      "cell_type": "code",
      "metadata": {
        "id": "iEpPlm014QIF",
        "colab": {
          "base_uri": "https://localhost:8080/"
        },
        "outputId": "0919746c-967e-4a44-de92-0715a771ccb8"
      },
      "source": [
        "# Faz predição das 2 primeiras linhas do X_test com o modelo do pipeline treinado acima.\n"
      ],
      "execution_count": null,
      "outputs": [
        {
          "output_type": "execute_result",
          "data": {
            "text/plain": [
              "array([0, 1])"
            ]
          },
          "metadata": {},
          "execution_count": 45
        }
      ]
    },
    {
      "cell_type": "markdown",
      "metadata": {
        "id": "0YJO5GdLEjVy"
      },
      "source": [
        "### pipeline tem algumas vantagens:\n",
        "\n",
        "1- Seu arquivo de treinamento permanece o mesmo e não vai crescer por causa do one-hot encoding.  \n",
        "2- Na predição de novos dados, não é necessário fazer pandas dummies no novo arquivo. Também evita eventuais problemas caso os novos dados não tenham todas as categorias que existem nos dados de treinamento. As dimensões do novo dataset será diferente e vai dar erro.  \n",
        "3- É possível fazer grid search para os parâmetros de pré-processamento e os parâmetros do modelo.  \n"
      ]
    }
  ]
}